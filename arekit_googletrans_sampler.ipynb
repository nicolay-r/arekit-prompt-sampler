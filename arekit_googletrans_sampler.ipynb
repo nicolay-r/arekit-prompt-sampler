{
  "nbformat": 4,
  "nbformat_minor": 0,
  "metadata": {
    "colab": {
      "provenance": [],
      "authorship_tag": "ABX9TyNKQrduI2fYPiOQ8bh5fKFM",
      "include_colab_link": true
    },
    "kernelspec": {
      "name": "python3",
      "display_name": "Python 3"
    },
    "language_info": {
      "name": "python"
    }
  },
  "cells": [
    {
      "cell_type": "markdown",
      "metadata": {
        "id": "view-in-github",
        "colab_type": "text"
      },
      "source": [
        "<a href=\"https://colab.research.google.com/github/nicolay-r/arekit-ss/blob/master/arekit_googletrans_sampler.ipynb\" target=\"_parent\"><img src=\"https://colab.research.google.com/assets/colab-badge.svg\" alt=\"Open In Colab\"/></a>"
      ]
    },
    {
      "cell_type": "code",
      "source": [
        "# select python version\n",
        "!sudo update-alternatives --config python3\n",
        "# check python version\n",
        "!python --version\n",
        "# install pip for new python\n",
        "!sudo apt-get install python3.8-distutils\n",
        "!wget https://bootstrap.pypa.io/pip/get-pip.py\n",
        "!sudo python get-pip.py"
      ],
      "metadata": {
        "colab": {
          "base_uri": "https://localhost:8080/"
        },
        "id": "SydQ625jFp90",
        "outputId": "e3ffb47f-7c4a-4f54-f93d-5373db6f9e01"
      },
      "execution_count": 8,
      "outputs": [
        {
          "output_type": "stream",
          "name": "stdout",
          "text": [
            "There are 2 choices for the alternative python3 (providing /usr/bin/python3).\n",
            "\n",
            "  Selection    Path                 Priority   Status\n",
            "------------------------------------------------------------\n",
            "* 0            /usr/bin/python3.10   2         auto mode\n",
            "  1            /usr/bin/python3.10   2         manual mode\n",
            "  2            /usr/bin/python3.8    1         manual mode\n",
            "\n",
            "Press <enter> to keep the current choice[*], or type selection number: 2\n",
            "update-alternatives: using /usr/bin/python3.8 to provide /usr/bin/python3 (python3) in manual mode\n",
            "Python 3.8.10\n",
            "Reading package lists... Done\n",
            "Building dependency tree       \n",
            "Reading state information... Done\n",
            "Note, selecting 'python3-distutils' instead of 'python3.8-distutils'\n",
            "python3-distutils is already the newest version (3.8.10-0ubuntu1~20.04).\n",
            "python3-distutils set to manually installed.\n",
            "0 upgraded, 0 newly installed, 0 to remove and 15 not upgraded.\n",
            "--2023-07-15 10:26:55--  https://bootstrap.pypa.io/pip/get-pip.py\n",
            "Resolving bootstrap.pypa.io (bootstrap.pypa.io)... 151.101.0.175, 151.101.64.175, 151.101.128.175, ...\n",
            "Connecting to bootstrap.pypa.io (bootstrap.pypa.io)|151.101.0.175|:443... connected.\n",
            "HTTP request sent, awaiting response... 200 OK\n",
            "Length: 2578580 (2.5M) [text/x-python]\n",
            "Saving to: ‘get-pip.py’\n",
            "\n",
            "get-pip.py          100%[===================>]   2.46M  --.-KB/s    in 0.05s   \n",
            "\n",
            "2023-07-15 10:26:55 (47.4 MB/s) - ‘get-pip.py’ saved [2578580/2578580]\n",
            "\n",
            "Collecting pip\n",
            "  Downloading pip-23.2-py3-none-any.whl (2.1 MB)\n",
            "\u001b[2K     \u001b[90m━━━━━━━━━━━━━━━━━━━━━━━━━━━━━━━━━━━━━━━━\u001b[0m \u001b[32m2.1/2.1 MB\u001b[0m \u001b[31m35.2 MB/s\u001b[0m eta \u001b[36m0:00:00\u001b[0m\n",
            "\u001b[?25hCollecting setuptools\n",
            "  Downloading setuptools-68.0.0-py3-none-any.whl (804 kB)\n",
            "\u001b[2K     \u001b[90m━━━━━━━━━━━━━━━━━━━━━━━━━━━━━━━━━━━━━━\u001b[0m \u001b[32m804.0/804.0 kB\u001b[0m \u001b[31m54.8 MB/s\u001b[0m eta \u001b[36m0:00:00\u001b[0m\n",
            "\u001b[?25hCollecting wheel\n",
            "  Downloading wheel-0.40.0-py3-none-any.whl (64 kB)\n",
            "\u001b[2K     \u001b[90m━━━━━━━━━━━━━━━━━━━━━━━━━━━━━━━━━━━━━━━━\u001b[0m \u001b[32m64.5/64.5 kB\u001b[0m \u001b[31m7.6 MB/s\u001b[0m eta \u001b[36m0:00:00\u001b[0m\n",
            "\u001b[?25hInstalling collected packages: wheel, setuptools, pip\n",
            "Successfully installed pip-23.2 setuptools-68.0.0 wheel-0.40.0\n",
            "\u001b[33mWARNING: Running pip as the 'root' user can result in broken permissions and conflicting behaviour with the system package manager. It is recommended to use a virtual environment instead: https://pip.pypa.io/warnings/venv\u001b[0m\u001b[33m\n",
            "\u001b[0m"
          ]
        }
      ]
    },
    {
      "cell_type": "code",
      "source": [
        "!pip install git+https://github.com/nicolay-r/arekit-ss.git@master"
      ],
      "metadata": {
        "id": "pDjk8iivQRgr"
      },
      "execution_count": null,
      "outputs": []
    },
    {
      "cell_type": "code",
      "source": [
        "!pip install pandas     # is temporary due the the https://github.com/nicolay-r/AREkit/issues/494 issue"
      ],
      "metadata": {
        "id": "iM74g23sffKh"
      },
      "execution_count": null,
      "outputs": []
    },
    {
      "cell_type": "code",
      "source": [
        "!python -m arekit.download_data"
      ],
      "metadata": {
        "colab": {
          "base_uri": "https://localhost:8080/"
        },
        "id": "tXP4dLoxSwHi",
        "outputId": "159c3486-bf81-4b13-9f5f-43148c5c6b3c"
      },
      "execution_count": 34,
      "outputs": [
        {
          "output_type": "stream",
          "name": "stdout",
          "text": [
            "Downloading from https://www.dropbox.com/s/bdsl3kney30y45z/rusentilex.zip?dl=1 to /root/.arekit/rusentilex.zip\n",
            "100% 53.5k/53.5k [00:00<00:00, 1.11MB/s]\n",
            "Downloading from https://www.dropbox.com/s/6aw5jv84jf5hrl2/rusentrel-v1_1.zip?dl=1 to /root/.arekit/rusentrel-v1_1.zip\n",
            "100% 705k/705k [00:00<00:00, 3.11MB/s]\n",
            "Downloading from https://www.dropbox.com/s/zvkis77li3f40bm/rusentiframes-v1_0.zip?dl=1 to /root/.arekit/rusentiframes-v1_0.zip\n",
            "100% 54.2k/54.2k [00:00<00:00, 5.61MB/s]\n",
            "Downloading from https://www.dropbox.com/s/slbyma7eudmmugp/rusentiframes-v2_0.zip?dl=1 to /root/.arekit/rusentiframes-v2_0.zip\n",
            "100% 57.4k/57.4k [00:00<00:00, 6.07MB/s]\n",
            "Downloading from https://www.dropbox.com/s/5lmqw9kyb4tfm94/ruattitudes-dbg.zip?dl=1 to /root/.arekit/ruattitudes-dbg.zip\n",
            "100% 737/737 [00:00<00:00, 444kB/s]\n",
            "Downloading from https://www.dropbox.com/s/wg6oa447msdytj3/ruattitudes-v1_0.zip?dl=1 to /root/.arekit/ruattitudes-v1_0.zip\n",
            "100% 3.40M/3.40M [00:00<00:00, 47.6MB/s]\n",
            "Downloading from https://www.dropbox.com/s/e3menx5iqyush19/ruattitudes-v1_1.zip?dl=1 to /root/.arekit/ruattitudes-v1_1.zip\n",
            "100% 3.46M/3.46M [00:00<00:00, 51.1MB/s]\n",
            "Downloading from https://www.dropbox.com/s/y39vqzzjumqhce1/ruattitudes_20_base.zip?dl=1 to /root/.arekit/ruattitudes-v2_0_base.zip\n",
            "100% 27.6M/27.6M [00:00<00:00, 53.6MB/s]\n",
            "Downloading from https://www.dropbox.com/s/3xh7gd004oyuwx5/ruattitudes_20_base_neut.zip?dl=1 to /root/.arekit/ruattitudes-v2_0_base_neut.zip\n",
            "100% 146M/146M [00:01<00:00, 109MB/s]\n",
            "Downloading from https://www.dropbox.com/s/43iqoxlyh38qk8u/ruattitudes_20_large.zip?dl=1 to /root/.arekit/ruattitudes-v2_0_large.zip\n",
            "100% 52.1M/52.1M [00:00<00:00, 151MB/s]\n",
            "Downloading from https://www.dropbox.com/s/6edqsxehtus4c61/ruattitudes_20_large_neut.zip?dl=1 to /root/.arekit/ruattitudes-v2_0_large_neut.zip\n",
            "100% 321M/321M [00:02<00:00, 143MB/s]\n",
            "Downloading from https://www.dropbox.com/s/<HIDDEN>/sentinerel-v1_0.zip?dl=1 to /root/.arekit/sentinerel-v1_0.zip\n",
            "63.3kB [00:00, 746kB/s]\n",
            "Downloading from https://www.dropbox.com/s/<HIDDEN>/sentinerel-v2_0.zip?dl=1 to /root/.arekit/sentinerel-v2_0.zip\n",
            "63.1kB [00:00, 1.29MB/s]\n",
            "Downloading from https://www.dropbox.com/s/<HIDDEN>/sentinerel-v2_1.zip?dl=1 to /root/.arekit/sentinerel-v2_1.zip\n",
            "63.4kB [00:00, 1.71MB/s]\n"
          ]
        }
      ]
    },
    {
      "cell_type": "markdown",
      "source": [
        "# Sentiment Analysis examples section\n",
        "\n",
        "1. Scenario with the bert-based formatter from `RuSentRel` collection with text translations into `en` language using Google Translate API."
      ],
      "metadata": {
        "id": "ebkYuqXIHtwk"
      }
    },
    {
      "cell_type": "code",
      "source": [
        "!python -m arekit_ss.sample --writer csv --source rusentrel --sampler nn \\\n",
        "  --dest_lang en --docs_limit 5 --text_parser lm --output_dir 'out_rusentrel_nn'"
      ],
      "metadata": {
        "id": "YfuraM8nLWXL"
      },
      "execution_count": null,
      "outputs": []
    },
    {
      "cell_type": "code",
      "source": [
        "!python -m arekit_ss.sample --writer csv --source rusentrel --sampler bert \\\n",
        "  --dest_lang en --docs_limit 5 --text_parser lm --output_dir 'out_rusentrel_bert'"
      ],
      "metadata": {
        "colab": {
          "base_uri": "https://localhost:8080/"
        },
        "id": "yYmPY419TKXL",
        "outputId": "c8fa0387-d60b-4b92-c6e6-7006845816b7"
      },
      "execution_count": 43,
      "outputs": [
        {
          "output_type": "stream",
          "name": "stdout",
          "text": [
            "Loading RuSentRel Collection: 100%|█████████████████████████████████████████████| 1253/1253 [00:01<00:00, 834.92opins/s]\n",
            "sample [DataType.Train]: 1412it [00:48, 29.36it/s, docs_seen=5, doc_now=13]\n"
          ]
        }
      ]
    },
    {
      "cell_type": "markdown",
      "source": [
        "2. Prompting scenario for further application of the sampled data in LLM.\n",
        "You can compose your personal prompt:\n",
        "1. `text` -- original text of the sentence\n",
        "2. `s_ind`, `t_ind` -- word indices in the original text\n",
        "3. `label` -- sentiment label of the text."
      ],
      "metadata": {
        "id": "t_vMoU9mKhfb"
      }
    },
    {
      "cell_type": "code",
      "source": [
        "!python -m arekit_ss.sample --writer json --source rusentrel --sampler prompt \\\n",
        "  --prompt \"For text: '{text}', the attitude between '{s_ind}','{t_ind}' is: '{label}'\" \\\n",
        "  --dest_lang en --docs_limit 1 --text_parser lm --output_dir 'out_rusentrel_prompt'"
      ],
      "metadata": {
        "id": "srhpk7TrIEbz"
      },
      "execution_count": null,
      "outputs": []
    },
    {
      "cell_type": "markdown",
      "source": [],
      "metadata": {
        "id": "CglgUCmsIAge"
      }
    },
    {
      "cell_type": "markdown",
      "source": [
        "Now we can take a look onto the results:"
      ],
      "metadata": {
        "id": "s7Yf2z-xmrp_"
      }
    },
    {
      "cell_type": "code",
      "source": [
        "from os.path import join\n",
        "from arekit.contrib.utils.data.readers.csv_pd import PandasCsvReader\n",
        "\n",
        "reader = PandasCsvReader()\n",
        "storage = reader.read(\"out_rusentrel_prompt/sample-train-0.csv\")\n",
        "storage._df.head()"
      ],
      "metadata": {
        "id": "WiPl5RgIlTfd"
      },
      "execution_count": null,
      "outputs": []
    }
  ]
}