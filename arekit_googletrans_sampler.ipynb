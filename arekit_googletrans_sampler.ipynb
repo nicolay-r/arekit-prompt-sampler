{
  "nbformat": 4,
  "nbformat_minor": 0,
  "metadata": {
    "colab": {
      "provenance": [],
      "authorship_tag": "ABX9TyPudUUil/lsADLalrbsWhqW",
      "include_colab_link": true
    },
    "kernelspec": {
      "name": "python3",
      "display_name": "Python 3"
    },
    "language_info": {
      "name": "python"
    }
  },
  "cells": [
    {
      "cell_type": "markdown",
      "metadata": {
        "id": "view-in-github",
        "colab_type": "text"
      },
      "source": [
        "<a href=\"https://colab.research.google.com/github/nicolay-r/arekit-googletrans-sampler/blob/master/arekit_googletrans_sampler.ipynb\" target=\"_parent\"><img src=\"https://colab.research.google.com/assets/colab-badge.svg\" alt=\"Open In Colab\"/></a>"
      ]
    },
    {
      "cell_type": "code",
      "source": [
        "!git clone https://github.com/nicolay-r/arekit-googletrans-sampler"
      ],
      "metadata": {
        "colab": {
          "base_uri": "https://localhost:8080/"
        },
        "id": "pDjk8iivQRgr",
        "outputId": "9cffab7e-ebb3-4cc2-90b9-fc3a7e9f352d"
      },
      "execution_count": 1,
      "outputs": [
        {
          "output_type": "stream",
          "name": "stdout",
          "text": [
            "Cloning into 'arekit-googletrans-sampler'...\n",
            "remote: Enumerating objects: 146, done.\u001b[K\n",
            "remote: Counting objects: 100% (146/146), done.\u001b[K\n",
            "remote: Compressing objects: 100% (95/95), done.\u001b[K\n",
            "remote: Total 146 (delta 79), reused 115 (delta 48), pack-reused 0\u001b[K\n",
            "Receiving objects: 100% (146/146), 575.50 KiB | 11.28 MiB/s, done.\n",
            "Resolving deltas: 100% (79/79), done.\n"
          ]
        }
      ]
    },
    {
      "cell_type": "code",
      "source": [
        "!sudo pip uninstall arekit\n",
        "!sudo pip install git+https://github.com/nicolay-r/AREkit.git@master"
      ],
      "metadata": {
        "colab": {
          "base_uri": "https://localhost:8080/"
        },
        "id": "iM74g23sffKh",
        "outputId": "e9c1630e-fc06-4bfc-b524-67eec64b2f92"
      },
      "execution_count": 9,
      "outputs": [
        {
          "output_type": "stream",
          "name": "stdout",
          "text": [
            "Found existing installation: arekit 0.23.0\n",
            "Uninstalling arekit-0.23.0:\n",
            "  Would remove:\n",
            "    /usr/local/lib/python3.8/dist-packages/arekit-0.23.0.dist-info/*\n",
            "    /usr/local/lib/python3.8/dist-packages/arekit/*\n",
            "Proceed (y/n)? Y\n",
            "  Successfully uninstalled arekit-0.23.0\n",
            "Looking in indexes: https://pypi.org/simple, https://us-python.pkg.dev/colab-wheels/public/simple/\n",
            "Collecting git+https://github.com/nicolay-r/AREkit.git@master\n",
            "  Cloning https://github.com/nicolay-r/AREkit.git (to revision master) to /tmp/pip-req-build-b0ftcop7\n",
            "  Running command git clone -q https://github.com/nicolay-r/AREkit.git /tmp/pip-req-build-b0ftcop7\n",
            "Requirement already satisfied: pandas>=0.20.3 in /usr/local/lib/python3.8/dist-packages (from arekit==0.23.0) (1.3.5)\n",
            "Requirement already satisfied: tqdm in /usr/local/lib/python3.8/dist-packages (from arekit==0.23.0) (4.64.1)\n",
            "Requirement already satisfied: enum34==1.1.10 in /usr/local/lib/python3.8/dist-packages (from arekit==0.23.0) (1.1.10)\n",
            "Requirement already satisfied: numpy>=1.14.5 in /usr/local/lib/python3.8/dist-packages (from arekit==0.23.0) (1.21.6)\n",
            "Requirement already satisfied: pymystem3==0.2.0 in /usr/local/lib/python3.8/dist-packages (from arekit==0.23.0) (0.2.0)\n",
            "Requirement already satisfied: requests in /usr/local/lib/python3.8/dist-packages (from pymystem3==0.2.0->arekit==0.23.0) (2.23.0)\n",
            "Requirement already satisfied: pytz>=2017.3 in /usr/local/lib/python3.8/dist-packages (from pandas>=0.20.3->arekit==0.23.0) (2022.6)\n",
            "Requirement already satisfied: python-dateutil>=2.7.3 in /usr/local/lib/python3.8/dist-packages (from pandas>=0.20.3->arekit==0.23.0) (2.8.2)\n",
            "Requirement already satisfied: six>=1.5 in /usr/local/lib/python3.8/dist-packages (from python-dateutil>=2.7.3->pandas>=0.20.3->arekit==0.23.0) (1.15.0)\n",
            "Requirement already satisfied: certifi>=2017.4.17 in /usr/local/lib/python3.8/dist-packages (from requests->pymystem3==0.2.0->arekit==0.23.0) (2022.12.7)\n",
            "Requirement already satisfied: urllib3!=1.25.0,!=1.25.1,<1.26,>=1.21.1 in /usr/local/lib/python3.8/dist-packages (from requests->pymystem3==0.2.0->arekit==0.23.0) (1.24.3)\n",
            "Requirement already satisfied: chardet<4,>=3.0.2 in /usr/local/lib/python3.8/dist-packages (from requests->pymystem3==0.2.0->arekit==0.23.0) (3.0.4)\n",
            "Requirement already satisfied: idna<3,>=2.5 in /usr/local/lib/python3.8/dist-packages (from requests->pymystem3==0.2.0->arekit==0.23.0) (2.10)\n",
            "Building wheels for collected packages: arekit\n",
            "  Building wheel for arekit (setup.py) ... \u001b[?25l\u001b[?25hdone\n",
            "  Created wheel for arekit: filename=arekit-0.23.0-py3-none-any.whl size=209429 sha256=2825261ae65eaf2599b80c8c3bc98dba45332b3149a82fa5df29158c171052b2\n",
            "  Stored in directory: /tmp/pip-ephem-wheel-cache-rmynfya6/wheels/14/fd/94/ef61d15cd459cf509ced698654c749df2b6e844d8e33c1e662\n",
            "Successfully built arekit\n",
            "Installing collected packages: arekit\n",
            "Successfully installed arekit-0.23.0\n"
          ]
        }
      ]
    },
    {
      "cell_type": "code",
      "source": [
        "%cd \"arekit-googletrans-sampler\"\n",
        "!sudo pip instal "
      ],
      "metadata": {
        "colab": {
          "base_uri": "https://localhost:8080/"
        },
        "id": "BLY9q73zQmWL",
        "outputId": "b04e7277-dff4-4737-fd6b-96d741f4a589"
      },
      "execution_count": 5,
      "outputs": [
        {
          "output_type": "stream",
          "name": "stdout",
          "text": [
            "[Errno 2] No such file or directory: 'arekit-googletrans-sampler'\n",
            "/content/arekit-googletrans-sampler\n",
            "Looking in indexes: https://pypi.org/simple, https://us-python.pkg.dev/colab-wheels/public/simple/\n",
            "Collecting git+https://github.com/nicolay-r/AREkit@0.23.0-rc (from -r dependencies.txt (line 1))\n",
            "  Cloning https://github.com/nicolay-r/AREkit (to revision 0.23.0-rc) to /tmp/pip-req-build-t4sdbynl\n",
            "  Running command git clone -q https://github.com/nicolay-r/AREkit /tmp/pip-req-build-t4sdbynl\n",
            "  Running command git checkout -b 0.23.0-rc --track origin/0.23.0-rc\n",
            "  Switched to a new branch '0.23.0-rc'\n",
            "  Branch '0.23.0-rc' set up to track remote branch '0.23.0-rc' from 'origin'.\n",
            "Requirement already satisfied: googletrans==3.1.0a0 in /usr/local/lib/python3.8/dist-packages (from -r dependencies.txt (line 2)) (3.1.0a0)\n",
            "Requirement already satisfied: pandas>=0.20.3 in /usr/local/lib/python3.8/dist-packages (from arekit==0.23.0->-r dependencies.txt (line 1)) (1.3.5)\n",
            "Requirement already satisfied: tqdm in /usr/local/lib/python3.8/dist-packages (from arekit==0.23.0->-r dependencies.txt (line 1)) (4.64.1)\n",
            "Requirement already satisfied: enum34==1.1.10 in /usr/local/lib/python3.8/dist-packages (from arekit==0.23.0->-r dependencies.txt (line 1)) (1.1.10)\n",
            "Requirement already satisfied: numpy>=1.14.5 in /usr/local/lib/python3.8/dist-packages (from arekit==0.23.0->-r dependencies.txt (line 1)) (1.21.6)\n",
            "Requirement already satisfied: pymystem3==0.2.0 in /usr/local/lib/python3.8/dist-packages (from arekit==0.23.0->-r dependencies.txt (line 1)) (0.2.0)\n",
            "Requirement already satisfied: httpx==0.13.3 in /usr/local/lib/python3.8/dist-packages (from googletrans==3.1.0a0->-r dependencies.txt (line 2)) (0.13.3)\n",
            "Requirement already satisfied: httpcore==0.9.* in /usr/local/lib/python3.8/dist-packages (from httpx==0.13.3->googletrans==3.1.0a0->-r dependencies.txt (line 2)) (0.9.1)\n",
            "Requirement already satisfied: rfc3986<2,>=1.3 in /usr/local/lib/python3.8/dist-packages (from httpx==0.13.3->googletrans==3.1.0a0->-r dependencies.txt (line 2)) (1.5.0)\n",
            "Requirement already satisfied: idna==2.* in /usr/local/lib/python3.8/dist-packages (from httpx==0.13.3->googletrans==3.1.0a0->-r dependencies.txt (line 2)) (2.10)\n",
            "Requirement already satisfied: chardet==3.* in /usr/local/lib/python3.8/dist-packages (from httpx==0.13.3->googletrans==3.1.0a0->-r dependencies.txt (line 2)) (3.0.4)\n",
            "Requirement already satisfied: certifi in /usr/local/lib/python3.8/dist-packages (from httpx==0.13.3->googletrans==3.1.0a0->-r dependencies.txt (line 2)) (2022.12.7)\n",
            "Requirement already satisfied: hstspreload in /usr/local/lib/python3.8/dist-packages (from httpx==0.13.3->googletrans==3.1.0a0->-r dependencies.txt (line 2)) (2023.1.1)\n",
            "Requirement already satisfied: sniffio in /usr/local/lib/python3.8/dist-packages (from httpx==0.13.3->googletrans==3.1.0a0->-r dependencies.txt (line 2)) (1.3.0)\n",
            "Requirement already satisfied: h2==3.* in /usr/local/lib/python3.8/dist-packages (from httpcore==0.9.*->httpx==0.13.3->googletrans==3.1.0a0->-r dependencies.txt (line 2)) (3.2.0)\n",
            "Requirement already satisfied: h11<0.10,>=0.8 in /usr/local/lib/python3.8/dist-packages (from httpcore==0.9.*->httpx==0.13.3->googletrans==3.1.0a0->-r dependencies.txt (line 2)) (0.9.0)\n",
            "Requirement already satisfied: hyperframe<6,>=5.2.0 in /usr/local/lib/python3.8/dist-packages (from h2==3.*->httpcore==0.9.*->httpx==0.13.3->googletrans==3.1.0a0->-r dependencies.txt (line 2)) (5.2.0)\n",
            "Requirement already satisfied: hpack<4,>=3.0 in /usr/local/lib/python3.8/dist-packages (from h2==3.*->httpcore==0.9.*->httpx==0.13.3->googletrans==3.1.0a0->-r dependencies.txt (line 2)) (3.0.0)\n",
            "Requirement already satisfied: requests in /usr/local/lib/python3.8/dist-packages (from pymystem3==0.2.0->arekit==0.23.0->-r dependencies.txt (line 1)) (2.23.0)\n",
            "Requirement already satisfied: pytz>=2017.3 in /usr/local/lib/python3.8/dist-packages (from pandas>=0.20.3->arekit==0.23.0->-r dependencies.txt (line 1)) (2022.6)\n",
            "Requirement already satisfied: python-dateutil>=2.7.3 in /usr/local/lib/python3.8/dist-packages (from pandas>=0.20.3->arekit==0.23.0->-r dependencies.txt (line 1)) (2.8.2)\n",
            "Requirement already satisfied: six>=1.5 in /usr/local/lib/python3.8/dist-packages (from python-dateutil>=2.7.3->pandas>=0.20.3->arekit==0.23.0->-r dependencies.txt (line 1)) (1.15.0)\n",
            "Requirement already satisfied: urllib3!=1.25.0,!=1.25.1,<1.26,>=1.21.1 in /usr/local/lib/python3.8/dist-packages (from requests->pymystem3==0.2.0->arekit==0.23.0->-r dependencies.txt (line 1)) (1.24.3)\n"
          ]
        }
      ]
    },
    {
      "cell_type": "code",
      "source": [
        "!python -m arekit.download_data"
      ],
      "metadata": {
        "colab": {
          "base_uri": "https://localhost:8080/"
        },
        "id": "tXP4dLoxSwHi",
        "outputId": "937941b1-0a87-4922-e268-4c512e6cf03b"
      },
      "execution_count": 6,
      "outputs": [
        {
          "output_type": "stream",
          "name": "stdout",
          "text": [
            "Downloading from https://www.dropbox.com/s/bdsl3kney30y45z/rusentilex.zip?dl=1 to /root/.arekit/rusentilex.zip\n",
            "100% 53.5k/53.5k [00:00<00:00, 431kB/s]\n",
            "Downloading from https://www.dropbox.com/s/6aw5jv84jf5hrl2/rusentrel-v1_1.zip?dl=1 to /root/.arekit/rusentrel-v1_1.zip\n",
            "100% 705k/705k [00:00<00:00, 1.49MB/s]\n",
            "Downloading from https://www.dropbox.com/s/zvkis77li3f40bm/rusentiframes-v1_0.zip?dl=1 to /root/.arekit/rusentiframes-v1_0.zip\n",
            "100% 54.2k/54.2k [00:00<00:00, 3.00MB/s]\n",
            "Downloading from https://www.dropbox.com/s/slbyma7eudmmugp/rusentiframes-v2_0.zip?dl=1 to /root/.arekit/rusentiframes-v2_0.zip\n",
            "100% 57.4k/57.4k [00:00<00:00, 2.07MB/s]\n",
            "Downloading from https://www.dropbox.com/s/5lmqw9kyb4tfm94/ruattitudes-dbg.zip?dl=1 to /root/.arekit/ruattitudes-dbg.zip\n",
            "100% 737/737 [00:00<00:00, 344kB/s]\n",
            "Downloading from https://www.dropbox.com/s/wg6oa447msdytj3/ruattitudes-v1_0.zip?dl=1 to /root/.arekit/ruattitudes-v1_0.zip\n",
            "100% 3.40M/3.40M [00:00<00:00, 18.8MB/s]\n",
            "Downloading from https://www.dropbox.com/s/e3menx5iqyush19/ruattitudes-v1_1.zip?dl=1 to /root/.arekit/ruattitudes-v1_1.zip\n",
            "100% 3.46M/3.46M [00:00<00:00, 25.2MB/s]\n",
            "Downloading from https://www.dropbox.com/s/y39vqzzjumqhce1/ruattitudes_20_base.zip?dl=1 to /root/.arekit/ruattitudes-v2_0_base.zip\n",
            "100% 27.6M/27.6M [00:00<00:00, 53.1MB/s]\n",
            "Downloading from https://www.dropbox.com/s/3xh7gd004oyuwx5/ruattitudes_20_base_neut.zip?dl=1 to /root/.arekit/ruattitudes-v2_0_base_neut.zip\n",
            "100% 146M/146M [00:01<00:00, 98.2MB/s]\n",
            "Downloading from https://www.dropbox.com/s/43iqoxlyh38qk8u/ruattitudes_20_large.zip?dl=1 to /root/.arekit/ruattitudes-v2_0_large.zip\n",
            "100% 52.1M/52.1M [00:00<00:00, 84.2MB/s]\n",
            "Downloading from https://www.dropbox.com/s/6edqsxehtus4c61/ruattitudes_20_large_neut.zip?dl=1 to /root/.arekit/ruattitudes-v2_0_large_neut.zip\n",
            "100% 321M/321M [00:03<00:00, 94.6MB/s]\n",
            "Downloading from https://www.dropbox.com/s/<HIDDEN>/sentinerel-v1_0.zip?dl=1 to /root/.arekit/sentinerel-v1_0.zip\n",
            "435kB [00:00, 1.37MB/s]\n",
            "Downloading from https://www.dropbox.com/s/<HIDDEN>/sentinerel-v2_0.zip?dl=1 to /root/.arekit/sentinerel-v2_0.zip\n",
            "434kB [00:00, 2.06MB/s]\n",
            "Downloading from https://www.dropbox.com/s/<HIDDEN>/sentinerel-v2_1.zip?dl=1 to /root/.arekit/sentinerel-v2_1.zip\n",
            "435kB [00:00, 1.30MB/s]\n"
          ]
        }
      ]
    },
    {
      "cell_type": "code",
      "source": [
        "!sudo python translate.py --writer csv --source rusentrel --sampler bert --dest_lang en --docs_limit 1"
      ],
      "metadata": {
        "colab": {
          "base_uri": "https://localhost:8080/"
        },
        "id": "yYmPY419TKXL",
        "outputId": "8e1af8de-b005-4d12-8ae0-7fc4ed4109ba"
      },
      "execution_count": 10,
      "outputs": [
        {
          "output_type": "stream",
          "name": "stdout",
          "text": [
            "Loading RuSentRel Collection: 100%|█████████████████████████████████████████████| 1253/1253 [00:02<00:00, 520.82opins/s]\n",
            "INFO:arekit.common.data.storages.base:Rows calculation process started. [Required by Pandas-Based storage kernel]\n",
            "Calculating rows count (sample [DataType.Train]): 682rows [00:01, 343.76rows/s]\n",
            "INFO:arekit.common.data.storages.base:Filling with blank rows: 682\n",
            "INFO:arekit.common.data.storages.base:Completed!\n",
            "100%|████████████████████████████████████████████████████████████████████████████████▊| 680/682 [00:35<00:00, 19.00it/s]\n",
            "INFO:arekit.contrib.utils.data.writers.csv_pd:Saving... 682: _out/serialize-bert-rusentrel-en-1/sample-train-0.tsv.gz\n",
            "INFO:arekit.contrib.utils.data.writers.csv_pd:Saving completed!\n"
          ]
        }
      ]
    },
    {
      "cell_type": "markdown",
      "source": [
        "Now we can take a look onto the results:"
      ],
      "metadata": {
        "id": "s7Yf2z-xmrp_"
      }
    },
    {
      "cell_type": "code",
      "source": [
        "from os.path import join\n",
        "from arekit.contrib.utils.data.readers.csv_pd import PandasCsvReader\n",
        "\n",
        "reader = PandasCsvReader()\n",
        "storage = reader.read(\"_out/serialize-bert-rusentrel-en-1/sample-train-0.tsv.gz\")\n",
        "storage._df.head()"
      ],
      "metadata": {
        "colab": {
          "base_uri": "https://localhost:8080/",
          "height": 379
        },
        "id": "WiPl5RgIlTfd",
        "outputId": "9af14221-e300-44fc-99f4-a12a3dc8bdf9"
      },
      "execution_count": 17,
      "outputs": [
        {
          "output_type": "execute_result",
          "data": {
            "text/plain": [
              "       id  doc_id  label                                             text_a  \\\n",
              "0  o0_i0_     1.0    2.0  According to statements from Pentagon , purpos...   \n",
              "1  o1_i0_     1.0    2.0  Why also in Moscow and Damascus who are also f...   \n",
              "2  o2_i0_     1.0    2.0  Why also in Moscow and Damascus who are also f...   \n",
              "3  o3_i0_     1.0    2.0  Anxiety USA obvious : the one who will be the ...   \n",
              "4  o4_i0_     1.0    2.0  As an example ali-khamenei cited the situation...   \n",
              "\n",
              "   s_ind  t_ind  sent_ind                                      entity_values  \\\n",
              "0    7.0   15.0      10.0                            Pentagon,USA,igil,rakqa   \n",
              "1   30.0   11.0      14.0  Moscow,Damascus,ig,Syria,washington,USA,rezakhakh   \n",
              "2   13.0   30.0      14.0  Moscow,Damascus,ig,Syria,washington,USA,rezakhakh   \n",
              "3   25.0    1.0      33.0           USA,Aleppo,Syria,javan,Moscow,washington   \n",
              "4   22.0   30.0      63.0                 ali khamenei,Syria,Ukraine,america   \n",
              "\n",
              "                        entity_types            entities  \n",
              "0                    ORG,LOC,ORG,LOC           4,7,15,19  \n",
              "1   LOC,LOC,ORG,LOC,GEOPOLIT,LOC,PER  3,5,11,13,16,30,35  \n",
              "2   LOC,LOC,ORG,LOC,GEOPOLIT,LOC,PER  3,5,11,13,16,30,35  \n",
              "3  LOC,PER,LOC,ORG,GEOPOLIT,GEOPOLIT    1,15,25,28,32,36  \n",
              "4               PER,LOC,LOC,GEOPOLIT          3,22,26,30  "
            ],
            "text/html": [
              "\n",
              "  <div id=\"df-c942bef2-9cf4-4898-bd17-9eba7559779e\">\n",
              "    <div class=\"colab-df-container\">\n",
              "      <div>\n",
              "<style scoped>\n",
              "    .dataframe tbody tr th:only-of-type {\n",
              "        vertical-align: middle;\n",
              "    }\n",
              "\n",
              "    .dataframe tbody tr th {\n",
              "        vertical-align: top;\n",
              "    }\n",
              "\n",
              "    .dataframe thead th {\n",
              "        text-align: right;\n",
              "    }\n",
              "</style>\n",
              "<table border=\"1\" class=\"dataframe\">\n",
              "  <thead>\n",
              "    <tr style=\"text-align: right;\">\n",
              "      <th></th>\n",
              "      <th>id</th>\n",
              "      <th>doc_id</th>\n",
              "      <th>label</th>\n",
              "      <th>text_a</th>\n",
              "      <th>s_ind</th>\n",
              "      <th>t_ind</th>\n",
              "      <th>sent_ind</th>\n",
              "      <th>entity_values</th>\n",
              "      <th>entity_types</th>\n",
              "      <th>entities</th>\n",
              "    </tr>\n",
              "  </thead>\n",
              "  <tbody>\n",
              "    <tr>\n",
              "      <th>0</th>\n",
              "      <td>o0_i0_</td>\n",
              "      <td>1.0</td>\n",
              "      <td>2.0</td>\n",
              "      <td>According to statements from Pentagon , purpos...</td>\n",
              "      <td>7.0</td>\n",
              "      <td>15.0</td>\n",
              "      <td>10.0</td>\n",
              "      <td>Pentagon,USA,igil,rakqa</td>\n",
              "      <td>ORG,LOC,ORG,LOC</td>\n",
              "      <td>4,7,15,19</td>\n",
              "    </tr>\n",
              "    <tr>\n",
              "      <th>1</th>\n",
              "      <td>o1_i0_</td>\n",
              "      <td>1.0</td>\n",
              "      <td>2.0</td>\n",
              "      <td>Why also in Moscow and Damascus who are also f...</td>\n",
              "      <td>30.0</td>\n",
              "      <td>11.0</td>\n",
              "      <td>14.0</td>\n",
              "      <td>Moscow,Damascus,ig,Syria,washington,USA,rezakhakh</td>\n",
              "      <td>LOC,LOC,ORG,LOC,GEOPOLIT,LOC,PER</td>\n",
              "      <td>3,5,11,13,16,30,35</td>\n",
              "    </tr>\n",
              "    <tr>\n",
              "      <th>2</th>\n",
              "      <td>o2_i0_</td>\n",
              "      <td>1.0</td>\n",
              "      <td>2.0</td>\n",
              "      <td>Why also in Moscow and Damascus who are also f...</td>\n",
              "      <td>13.0</td>\n",
              "      <td>30.0</td>\n",
              "      <td>14.0</td>\n",
              "      <td>Moscow,Damascus,ig,Syria,washington,USA,rezakhakh</td>\n",
              "      <td>LOC,LOC,ORG,LOC,GEOPOLIT,LOC,PER</td>\n",
              "      <td>3,5,11,13,16,30,35</td>\n",
              "    </tr>\n",
              "    <tr>\n",
              "      <th>3</th>\n",
              "      <td>o3_i0_</td>\n",
              "      <td>1.0</td>\n",
              "      <td>2.0</td>\n",
              "      <td>Anxiety USA obvious : the one who will be the ...</td>\n",
              "      <td>25.0</td>\n",
              "      <td>1.0</td>\n",
              "      <td>33.0</td>\n",
              "      <td>USA,Aleppo,Syria,javan,Moscow,washington</td>\n",
              "      <td>LOC,PER,LOC,ORG,GEOPOLIT,GEOPOLIT</td>\n",
              "      <td>1,15,25,28,32,36</td>\n",
              "    </tr>\n",
              "    <tr>\n",
              "      <th>4</th>\n",
              "      <td>o4_i0_</td>\n",
              "      <td>1.0</td>\n",
              "      <td>2.0</td>\n",
              "      <td>As an example ali-khamenei cited the situation...</td>\n",
              "      <td>22.0</td>\n",
              "      <td>30.0</td>\n",
              "      <td>63.0</td>\n",
              "      <td>ali khamenei,Syria,Ukraine,america</td>\n",
              "      <td>PER,LOC,LOC,GEOPOLIT</td>\n",
              "      <td>3,22,26,30</td>\n",
              "    </tr>\n",
              "  </tbody>\n",
              "</table>\n",
              "</div>\n",
              "      <button class=\"colab-df-convert\" onclick=\"convertToInteractive('df-c942bef2-9cf4-4898-bd17-9eba7559779e')\"\n",
              "              title=\"Convert this dataframe to an interactive table.\"\n",
              "              style=\"display:none;\">\n",
              "        \n",
              "  <svg xmlns=\"http://www.w3.org/2000/svg\" height=\"24px\"viewBox=\"0 0 24 24\"\n",
              "       width=\"24px\">\n",
              "    <path d=\"M0 0h24v24H0V0z\" fill=\"none\"/>\n",
              "    <path d=\"M18.56 5.44l.94 2.06.94-2.06 2.06-.94-2.06-.94-.94-2.06-.94 2.06-2.06.94zm-11 1L8.5 8.5l.94-2.06 2.06-.94-2.06-.94L8.5 2.5l-.94 2.06-2.06.94zm10 10l.94 2.06.94-2.06 2.06-.94-2.06-.94-.94-2.06-.94 2.06-2.06.94z\"/><path d=\"M17.41 7.96l-1.37-1.37c-.4-.4-.92-.59-1.43-.59-.52 0-1.04.2-1.43.59L10.3 9.45l-7.72 7.72c-.78.78-.78 2.05 0 2.83L4 21.41c.39.39.9.59 1.41.59.51 0 1.02-.2 1.41-.59l7.78-7.78 2.81-2.81c.8-.78.8-2.07 0-2.86zM5.41 20L4 18.59l7.72-7.72 1.47 1.35L5.41 20z\"/>\n",
              "  </svg>\n",
              "      </button>\n",
              "      \n",
              "  <style>\n",
              "    .colab-df-container {\n",
              "      display:flex;\n",
              "      flex-wrap:wrap;\n",
              "      gap: 12px;\n",
              "    }\n",
              "\n",
              "    .colab-df-convert {\n",
              "      background-color: #E8F0FE;\n",
              "      border: none;\n",
              "      border-radius: 50%;\n",
              "      cursor: pointer;\n",
              "      display: none;\n",
              "      fill: #1967D2;\n",
              "      height: 32px;\n",
              "      padding: 0 0 0 0;\n",
              "      width: 32px;\n",
              "    }\n",
              "\n",
              "    .colab-df-convert:hover {\n",
              "      background-color: #E2EBFA;\n",
              "      box-shadow: 0px 1px 2px rgba(60, 64, 67, 0.3), 0px 1px 3px 1px rgba(60, 64, 67, 0.15);\n",
              "      fill: #174EA6;\n",
              "    }\n",
              "\n",
              "    [theme=dark] .colab-df-convert {\n",
              "      background-color: #3B4455;\n",
              "      fill: #D2E3FC;\n",
              "    }\n",
              "\n",
              "    [theme=dark] .colab-df-convert:hover {\n",
              "      background-color: #434B5C;\n",
              "      box-shadow: 0px 1px 3px 1px rgba(0, 0, 0, 0.15);\n",
              "      filter: drop-shadow(0px 1px 2px rgba(0, 0, 0, 0.3));\n",
              "      fill: #FFFFFF;\n",
              "    }\n",
              "  </style>\n",
              "\n",
              "      <script>\n",
              "        const buttonEl =\n",
              "          document.querySelector('#df-c942bef2-9cf4-4898-bd17-9eba7559779e button.colab-df-convert');\n",
              "        buttonEl.style.display =\n",
              "          google.colab.kernel.accessAllowed ? 'block' : 'none';\n",
              "\n",
              "        async function convertToInteractive(key) {\n",
              "          const element = document.querySelector('#df-c942bef2-9cf4-4898-bd17-9eba7559779e');\n",
              "          const dataTable =\n",
              "            await google.colab.kernel.invokeFunction('convertToInteractive',\n",
              "                                                     [key], {});\n",
              "          if (!dataTable) return;\n",
              "\n",
              "          const docLinkHtml = 'Like what you see? Visit the ' +\n",
              "            '<a target=\"_blank\" href=https://colab.research.google.com/notebooks/data_table.ipynb>data table notebook</a>'\n",
              "            + ' to learn more about interactive tables.';\n",
              "          element.innerHTML = '';\n",
              "          dataTable['output_type'] = 'display_data';\n",
              "          await google.colab.output.renderOutput(dataTable, element);\n",
              "          const docLink = document.createElement('div');\n",
              "          docLink.innerHTML = docLinkHtml;\n",
              "          element.appendChild(docLink);\n",
              "        }\n",
              "      </script>\n",
              "    </div>\n",
              "  </div>\n",
              "  "
            ]
          },
          "metadata": {},
          "execution_count": 17
        }
      ]
    }
  ]
}