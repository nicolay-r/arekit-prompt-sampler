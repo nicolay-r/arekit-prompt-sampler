{
  "nbformat": 4,
  "nbformat_minor": 0,
  "metadata": {
    "colab": {
      "provenance": [],
      "authorship_tag": "ABX9TyPQkqR4f2dwc0Om3ySb39FY",
      "include_colab_link": true
    },
    "kernelspec": {
      "name": "python3",
      "display_name": "Python 3"
    },
    "language_info": {
      "name": "python"
    }
  },
  "cells": [
    {
      "cell_type": "markdown",
      "metadata": {
        "id": "view-in-github",
        "colab_type": "text"
      },
      "source": [
        "<a href=\"https://colab.research.google.com/github/nicolay-r/arekit-ss/blob/master/arekit_googletrans_sampler.ipynb\" target=\"_parent\"><img src=\"https://colab.research.google.com/assets/colab-badge.svg\" alt=\"Open In Colab\"/></a>"
      ]
    },
    {
      "cell_type": "code",
      "source": [
        "# select python version\n",
        "!sudo update-alternatives --config python3\n",
        "# check python version\n",
        "!python --version\n",
        "# install pip for new python\n",
        "!sudo apt-get install python3.8-distutils\n",
        "!wget https://bootstrap.pypa.io/pip/get-pip.py\n",
        "!sudo python get-pip.py"
      ],
      "metadata": {
        "id": "SydQ625jFp90",
        "outputId": "e3ffb47f-7c4a-4f54-f93d-5373db6f9e01",
        "colab": {
          "base_uri": "https://localhost:8080/"
        }
      },
      "execution_count": 8,
      "outputs": [
        {
          "output_type": "stream",
          "name": "stdout",
          "text": [
            "There are 2 choices for the alternative python3 (providing /usr/bin/python3).\n",
            "\n",
            "  Selection    Path                 Priority   Status\n",
            "------------------------------------------------------------\n",
            "* 0            /usr/bin/python3.10   2         auto mode\n",
            "  1            /usr/bin/python3.10   2         manual mode\n",
            "  2            /usr/bin/python3.8    1         manual mode\n",
            "\n",
            "Press <enter> to keep the current choice[*], or type selection number: 2\n",
            "update-alternatives: using /usr/bin/python3.8 to provide /usr/bin/python3 (python3) in manual mode\n",
            "Python 3.8.10\n",
            "Reading package lists... Done\n",
            "Building dependency tree       \n",
            "Reading state information... Done\n",
            "Note, selecting 'python3-distutils' instead of 'python3.8-distutils'\n",
            "python3-distutils is already the newest version (3.8.10-0ubuntu1~20.04).\n",
            "python3-distutils set to manually installed.\n",
            "0 upgraded, 0 newly installed, 0 to remove and 15 not upgraded.\n",
            "--2023-07-15 10:26:55--  https://bootstrap.pypa.io/pip/get-pip.py\n",
            "Resolving bootstrap.pypa.io (bootstrap.pypa.io)... 151.101.0.175, 151.101.64.175, 151.101.128.175, ...\n",
            "Connecting to bootstrap.pypa.io (bootstrap.pypa.io)|151.101.0.175|:443... connected.\n",
            "HTTP request sent, awaiting response... 200 OK\n",
            "Length: 2578580 (2.5M) [text/x-python]\n",
            "Saving to: ‘get-pip.py’\n",
            "\n",
            "get-pip.py          100%[===================>]   2.46M  --.-KB/s    in 0.05s   \n",
            "\n",
            "2023-07-15 10:26:55 (47.4 MB/s) - ‘get-pip.py’ saved [2578580/2578580]\n",
            "\n",
            "Collecting pip\n",
            "  Downloading pip-23.2-py3-none-any.whl (2.1 MB)\n",
            "\u001b[2K     \u001b[90m━━━━━━━━━━━━━━━━━━━━━━━━━━━━━━━━━━━━━━━━\u001b[0m \u001b[32m2.1/2.1 MB\u001b[0m \u001b[31m35.2 MB/s\u001b[0m eta \u001b[36m0:00:00\u001b[0m\n",
            "\u001b[?25hCollecting setuptools\n",
            "  Downloading setuptools-68.0.0-py3-none-any.whl (804 kB)\n",
            "\u001b[2K     \u001b[90m━━━━━━━━━━━━━━━━━━━━━━━━━━━━━━━━━━━━━━\u001b[0m \u001b[32m804.0/804.0 kB\u001b[0m \u001b[31m54.8 MB/s\u001b[0m eta \u001b[36m0:00:00\u001b[0m\n",
            "\u001b[?25hCollecting wheel\n",
            "  Downloading wheel-0.40.0-py3-none-any.whl (64 kB)\n",
            "\u001b[2K     \u001b[90m━━━━━━━━━━━━━━━━━━━━━━━━━━━━━━━━━━━━━━━━\u001b[0m \u001b[32m64.5/64.5 kB\u001b[0m \u001b[31m7.6 MB/s\u001b[0m eta \u001b[36m0:00:00\u001b[0m\n",
            "\u001b[?25hInstalling collected packages: wheel, setuptools, pip\n",
            "Successfully installed pip-23.2 setuptools-68.0.0 wheel-0.40.0\n",
            "\u001b[33mWARNING: Running pip as the 'root' user can result in broken permissions and conflicting behaviour with the system package manager. It is recommended to use a virtual environment instead: https://pip.pypa.io/warnings/venv\u001b[0m\u001b[33m\n",
            "\u001b[0m"
          ]
        }
      ]
    },
    {
      "cell_type": "code",
      "source": [
        "!git clone https://github.com/nicolay-r/arekit-ss"
      ],
      "metadata": {
        "colab": {
          "base_uri": "https://localhost:8080/"
        },
        "id": "pDjk8iivQRgr",
        "outputId": "64dc82c8-7198-420a-e10f-03445533163a"
      },
      "execution_count": 9,
      "outputs": [
        {
          "output_type": "stream",
          "name": "stdout",
          "text": [
            "fatal: destination path 'arekit-ss' already exists and is not an empty directory.\n"
          ]
        }
      ]
    },
    {
      "cell_type": "code",
      "source": [
        "!cd arekit-ss && pip install .\n",
        "!pip install pandas     # is temporary due the the https://github.com/nicolay-r/AREkit/issues/494 issue"
      ],
      "metadata": {
        "colab": {
          "base_uri": "https://localhost:8080/"
        },
        "id": "iM74g23sffKh",
        "outputId": "655ab6b1-1aba-482c-947f-3b686e0094a4"
      },
      "execution_count": 35,
      "outputs": [
        {
          "output_type": "stream",
          "name": "stdout",
          "text": [
            "Processing /content/arekit-ss\n",
            "  Preparing metadata (setup.py) ... \u001b[?25l\u001b[?25hdone\n",
            "Collecting arekit@ git+https://github.com/nicolay-r/AREkit@0.23.1-rc (from arekit-ss==0.23.1)\n",
            "  Cloning https://github.com/nicolay-r/AREkit (to revision 0.23.1-rc) to /tmp/pip-install-vox6e1m8/arekit_6722c91ea65447b68745559d40473411\n",
            "  Running command git clone --filter=blob:none --quiet https://github.com/nicolay-r/AREkit /tmp/pip-install-vox6e1m8/arekit_6722c91ea65447b68745559d40473411\n",
            "  Running command git checkout -b 0.23.1-rc --track origin/0.23.1-rc\n",
            "  Switched to a new branch '0.23.1-rc'\n",
            "  Branch '0.23.1-rc' set up to track remote branch '0.23.1-rc' from 'origin'.\n",
            "  Resolved https://github.com/nicolay-r/AREkit to commit 6b31098cbe7f7e73df2a9a17637311cc0a8df3d5\n",
            "  Preparing metadata (setup.py) ... \u001b[?25l\u001b[?25hdone\n",
            "Requirement already satisfied: googletrans==3.1.0a0 in /usr/local/lib/python3.8/dist-packages (from arekit-ss==0.23.1) (3.1.0a0)\n",
            "Requirement already satisfied: httpx==0.13.3 in /usr/local/lib/python3.8/dist-packages (from googletrans==3.1.0a0->arekit-ss==0.23.1) (0.13.3)\n",
            "Requirement already satisfied: certifi in /usr/local/lib/python3.8/dist-packages (from httpx==0.13.3->googletrans==3.1.0a0->arekit-ss==0.23.1) (2023.5.7)\n",
            "Requirement already satisfied: hstspreload in /usr/local/lib/python3.8/dist-packages (from httpx==0.13.3->googletrans==3.1.0a0->arekit-ss==0.23.1) (2023.1.1)\n",
            "Requirement already satisfied: sniffio in /usr/local/lib/python3.8/dist-packages (from httpx==0.13.3->googletrans==3.1.0a0->arekit-ss==0.23.1) (1.3.0)\n",
            "Requirement already satisfied: chardet==3.* in /usr/local/lib/python3.8/dist-packages (from httpx==0.13.3->googletrans==3.1.0a0->arekit-ss==0.23.1) (3.0.4)\n",
            "Requirement already satisfied: idna==2.* in /usr/local/lib/python3.8/dist-packages (from httpx==0.13.3->googletrans==3.1.0a0->arekit-ss==0.23.1) (2.10)\n",
            "Requirement already satisfied: rfc3986<2,>=1.3 in /usr/local/lib/python3.8/dist-packages (from httpx==0.13.3->googletrans==3.1.0a0->arekit-ss==0.23.1) (1.5.0)\n",
            "Requirement already satisfied: httpcore==0.9.* in /usr/local/lib/python3.8/dist-packages (from httpx==0.13.3->googletrans==3.1.0a0->arekit-ss==0.23.1) (0.9.1)\n",
            "Requirement already satisfied: h11<0.10,>=0.8 in /usr/local/lib/python3.8/dist-packages (from httpcore==0.9.*->httpx==0.13.3->googletrans==3.1.0a0->arekit-ss==0.23.1) (0.9.0)\n",
            "Requirement already satisfied: h2==3.* in /usr/local/lib/python3.8/dist-packages (from httpcore==0.9.*->httpx==0.13.3->googletrans==3.1.0a0->arekit-ss==0.23.1) (3.2.0)\n",
            "Requirement already satisfied: hyperframe<6,>=5.2.0 in /usr/local/lib/python3.8/dist-packages (from h2==3.*->httpcore==0.9.*->httpx==0.13.3->googletrans==3.1.0a0->arekit-ss==0.23.1) (5.2.0)\n",
            "Requirement already satisfied: hpack<4,>=3.0 in /usr/local/lib/python3.8/dist-packages (from h2==3.*->httpcore==0.9.*->httpx==0.13.3->googletrans==3.1.0a0->arekit-ss==0.23.1) (3.0.0)\n",
            "Requirement already satisfied: tqdm in /usr/local/lib/python3.8/dist-packages (from arekit@ git+https://github.com/nicolay-r/AREkit@0.23.1-rc->arekit-ss==0.23.1) (4.65.0)\n",
            "Requirement already satisfied: enum34==1.1.10 in /usr/local/lib/python3.8/dist-packages (from arekit@ git+https://github.com/nicolay-r/AREkit@0.23.1-rc->arekit-ss==0.23.1) (1.1.10)\n",
            "Requirement already satisfied: numpy>=1.14.5 in /usr/local/lib/python3.8/dist-packages (from arekit@ git+https://github.com/nicolay-r/AREkit@0.23.1-rc->arekit-ss==0.23.1) (1.24.4)\n",
            "Requirement already satisfied: pymystem3==0.2.0 in /usr/local/lib/python3.8/dist-packages (from arekit@ git+https://github.com/nicolay-r/AREkit@0.23.1-rc->arekit-ss==0.23.1) (0.2.0)\n",
            "Requirement already satisfied: requests in /usr/local/lib/python3.8/dist-packages (from pymystem3==0.2.0->arekit@ git+https://github.com/nicolay-r/AREkit@0.23.1-rc->arekit-ss==0.23.1) (2.31.0)\n",
            "Requirement already satisfied: charset-normalizer<4,>=2 in /usr/local/lib/python3.8/dist-packages (from requests->pymystem3==0.2.0->arekit@ git+https://github.com/nicolay-r/AREkit@0.23.1-rc->arekit-ss==0.23.1) (3.2.0)\n",
            "Requirement already satisfied: urllib3<3,>=1.21.1 in /usr/local/lib/python3.8/dist-packages (from requests->pymystem3==0.2.0->arekit@ git+https://github.com/nicolay-r/AREkit@0.23.1-rc->arekit-ss==0.23.1) (2.0.3)\n",
            "Building wheels for collected packages: arekit-ss\n",
            "  Building wheel for arekit-ss (setup.py) ... \u001b[?25l\u001b[?25hdone\n",
            "  Created wheel for arekit-ss: filename=arekit_ss-0.23.1-py3-none-any.whl size=12617 sha256=5cd2e18d41858290840c73de203ef7ffc825ebd2f28d73ed15effc03ae510435\n",
            "  Stored in directory: /root/.cache/pip/wheels/a9/3e/b7/a50f8e6b29165bea428f6cb2b0215b4ab829f1011bd169eb72\n",
            "Successfully built arekit-ss\n",
            "Installing collected packages: arekit-ss\n",
            "  Attempting uninstall: arekit-ss\n",
            "    Found existing installation: arekit-ss 0.23.1\n",
            "    Uninstalling arekit-ss-0.23.1:\n",
            "      Successfully uninstalled arekit-ss-0.23.1\n",
            "Successfully installed arekit-ss-0.23.1\n",
            "\u001b[33mWARNING: Running pip as the 'root' user can result in broken permissions and conflicting behaviour with the system package manager. It is recommended to use a virtual environment instead: https://pip.pypa.io/warnings/venv\u001b[0m\u001b[33m\n",
            "\u001b[0mRequirement already satisfied: pandas in /usr/local/lib/python3.8/dist-packages (2.0.3)\n",
            "Requirement already satisfied: python-dateutil>=2.8.2 in /usr/local/lib/python3.8/dist-packages (from pandas) (2.8.2)\n",
            "Requirement already satisfied: pytz>=2020.1 in /usr/local/lib/python3.8/dist-packages (from pandas) (2023.3)\n",
            "Requirement already satisfied: tzdata>=2022.1 in /usr/local/lib/python3.8/dist-packages (from pandas) (2023.3)\n",
            "Requirement already satisfied: numpy>=1.20.3 in /usr/local/lib/python3.8/dist-packages (from pandas) (1.24.4)\n",
            "Requirement already satisfied: six>=1.5 in /usr/local/lib/python3.8/dist-packages (from python-dateutil>=2.8.2->pandas) (1.16.0)\n",
            "\u001b[33mWARNING: Running pip as the 'root' user can result in broken permissions and conflicting behaviour with the system package manager. It is recommended to use a virtual environment instead: https://pip.pypa.io/warnings/venv\u001b[0m\u001b[33m\n",
            "\u001b[0m"
          ]
        }
      ]
    },
    {
      "cell_type": "code",
      "source": [
        "!python -m arekit.download_data"
      ],
      "metadata": {
        "colab": {
          "base_uri": "https://localhost:8080/"
        },
        "id": "tXP4dLoxSwHi",
        "outputId": "159c3486-bf81-4b13-9f5f-43148c5c6b3c"
      },
      "execution_count": 34,
      "outputs": [
        {
          "output_type": "stream",
          "name": "stdout",
          "text": [
            "Downloading from https://www.dropbox.com/s/bdsl3kney30y45z/rusentilex.zip?dl=1 to /root/.arekit/rusentilex.zip\n",
            "100% 53.5k/53.5k [00:00<00:00, 1.11MB/s]\n",
            "Downloading from https://www.dropbox.com/s/6aw5jv84jf5hrl2/rusentrel-v1_1.zip?dl=1 to /root/.arekit/rusentrel-v1_1.zip\n",
            "100% 705k/705k [00:00<00:00, 3.11MB/s]\n",
            "Downloading from https://www.dropbox.com/s/zvkis77li3f40bm/rusentiframes-v1_0.zip?dl=1 to /root/.arekit/rusentiframes-v1_0.zip\n",
            "100% 54.2k/54.2k [00:00<00:00, 5.61MB/s]\n",
            "Downloading from https://www.dropbox.com/s/slbyma7eudmmugp/rusentiframes-v2_0.zip?dl=1 to /root/.arekit/rusentiframes-v2_0.zip\n",
            "100% 57.4k/57.4k [00:00<00:00, 6.07MB/s]\n",
            "Downloading from https://www.dropbox.com/s/5lmqw9kyb4tfm94/ruattitudes-dbg.zip?dl=1 to /root/.arekit/ruattitudes-dbg.zip\n",
            "100% 737/737 [00:00<00:00, 444kB/s]\n",
            "Downloading from https://www.dropbox.com/s/wg6oa447msdytj3/ruattitudes-v1_0.zip?dl=1 to /root/.arekit/ruattitudes-v1_0.zip\n",
            "100% 3.40M/3.40M [00:00<00:00, 47.6MB/s]\n",
            "Downloading from https://www.dropbox.com/s/e3menx5iqyush19/ruattitudes-v1_1.zip?dl=1 to /root/.arekit/ruattitudes-v1_1.zip\n",
            "100% 3.46M/3.46M [00:00<00:00, 51.1MB/s]\n",
            "Downloading from https://www.dropbox.com/s/y39vqzzjumqhce1/ruattitudes_20_base.zip?dl=1 to /root/.arekit/ruattitudes-v2_0_base.zip\n",
            "100% 27.6M/27.6M [00:00<00:00, 53.6MB/s]\n",
            "Downloading from https://www.dropbox.com/s/3xh7gd004oyuwx5/ruattitudes_20_base_neut.zip?dl=1 to /root/.arekit/ruattitudes-v2_0_base_neut.zip\n",
            "100% 146M/146M [00:01<00:00, 109MB/s]\n",
            "Downloading from https://www.dropbox.com/s/43iqoxlyh38qk8u/ruattitudes_20_large.zip?dl=1 to /root/.arekit/ruattitudes-v2_0_large.zip\n",
            "100% 52.1M/52.1M [00:00<00:00, 151MB/s]\n",
            "Downloading from https://www.dropbox.com/s/6edqsxehtus4c61/ruattitudes_20_large_neut.zip?dl=1 to /root/.arekit/ruattitudes-v2_0_large_neut.zip\n",
            "100% 321M/321M [00:02<00:00, 143MB/s]\n",
            "Downloading from https://www.dropbox.com/s/<HIDDEN>/sentinerel-v1_0.zip?dl=1 to /root/.arekit/sentinerel-v1_0.zip\n",
            "63.3kB [00:00, 746kB/s]\n",
            "Downloading from https://www.dropbox.com/s/<HIDDEN>/sentinerel-v2_0.zip?dl=1 to /root/.arekit/sentinerel-v2_0.zip\n",
            "63.1kB [00:00, 1.29MB/s]\n",
            "Downloading from https://www.dropbox.com/s/<HIDDEN>/sentinerel-v2_1.zip?dl=1 to /root/.arekit/sentinerel-v2_1.zip\n",
            "63.4kB [00:00, 1.71MB/s]\n"
          ]
        }
      ]
    },
    {
      "cell_type": "markdown",
      "source": [
        "# Sentiment Analysis examples section\n",
        "\n",
        "1. Scenario with the bert-based formatter from `RuSentRel` collection with text translations into `en` language using Google Translate API."
      ],
      "metadata": {
        "id": "ebkYuqXIHtwk"
      }
    },
    {
      "cell_type": "code",
      "source": [
        "!python -m arekit_ss.sample --writer csv --source rusentrel --sampler nn \\\n",
        "  --dest_lang en --docs_limit 5 --text_parser lm --output_dir 'out_rusentrel_nn'"
      ],
      "metadata": {
        "id": "YfuraM8nLWXL",
        "outputId": "dd3300c0-6668-4fcc-c439-6ed8f285bbc5",
        "colab": {
          "base_uri": "https://localhost:8080/"
        }
      },
      "execution_count": 32,
      "outputs": [
        {
          "output_type": "stream",
          "name": "stdout",
          "text": [
            "Loading RuSentRel Collection: 100%|████████████████████████████████████████████| 1253/1253 [00:01<00:00, 1132.44opins/s]\n",
            "Traceback (most recent call last):\n",
            "  File \"/usr/lib/python3.8/runpy.py\", line 194, in _run_module_as_main\n",
            "    return _run_code(code, main_globals, None,\n",
            "  File \"/usr/lib/python3.8/runpy.py\", line 87, in _run_code\n",
            "    exec(code, run_globals)\n",
            "  File \"/usr/local/lib/python3.8/dist-packages/arekit_ss/sample.py\", line 90, in <module>\n",
            "    rows_provider=create_nn_rows_provider(labels_scaler))\n",
            "  File \"/usr/local/lib/python3.8/dist-packages/arekit_ss/framework/arekit/rows_nn.py\", line 30, in create_nn_rows_provider\n",
            "    return create_rows_provider(str_entity_fmt=StringEntitiesDisplayValueFormatter(), ctx=ctx)\n",
            "  File \"/usr/local/lib/python3.8/dist-packages/arekit/contrib/utils/nn/rows.py\", line 49, in create_rows_provider\n",
            "    embedding = load_embedding_news_mystem_skipgram_1000_20_2015(MystemWrapper())\n",
            "  File \"/usr/local/lib/python3.8/dist-packages/arekit/contrib/utils/resources.py\", line 20, in load_embedding_news_mystem_skipgram_1000_20_2015\n",
            "    embedding, vocab = load_embedding_and_vocab(local_name=NEWS_MYSTEM_SKIPGRAM_1000_20_2015, check_existance=True)\n",
            "  File \"/usr/local/lib/python3.8/dist-packages/arekit/contrib/utils/download.py\", line 27, in load_embedding_and_vocab\n",
            "    tar_gz_archive = __get_resource(local_name, check_existance)\n",
            "  File \"/usr/local/lib/python3.8/dist-packages/arekit/contrib/utils/download.py\", line 17, in __get_resource\n",
            "    raise Exception(\"Resource could not be found: {}\".format(filepath))\n",
            "Exception: Resource could not be found: /root/.arekit/news_mystem_skipgram_1000_20_2015.tar.gz\n"
          ]
        }
      ]
    },
    {
      "cell_type": "code",
      "source": [
        "!python -m arekit_ss.sample --writer csv --source rusentrel --sampler bert \\\n",
        "  --dest_lang en --docs_limit 5 --text_parser lm --output_dir 'out_rusentrel_bert'"
      ],
      "metadata": {
        "colab": {
          "base_uri": "https://localhost:8080/"
        },
        "id": "yYmPY419TKXL",
        "outputId": "e56be120-feed-44c9-e8a0-cd6f19790888"
      },
      "execution_count": 20,
      "outputs": [
        {
          "output_type": "stream",
          "name": "stdout",
          "text": [
            "Loading RuSentRel Collection: 100%|█████████████████████████████████████████████| 1253/1253 [00:01<00:00, 941.68opins/s]\n",
            "sample [DataType.Train]: 1412it [01:17, 18.24it/s, docs_seen=5, doc_now=13]\n"
          ]
        }
      ]
    },
    {
      "cell_type": "markdown",
      "source": [
        "2. Prompting scenario for further application of the sampled data in LLM.\n",
        "You can compose your personal prompt:\n",
        "1. `text` -- original text of the sentence\n",
        "2. `s_ind`, `t_ind` -- word indices in the original text\n",
        "3. `label` -- sentiment label of the text."
      ],
      "metadata": {
        "id": "t_vMoU9mKhfb"
      }
    },
    {
      "cell_type": "code",
      "source": [
        "!python -m arekit_ss.sample --writer csv --source rusentrel --sampler prompt \\\n",
        "  --prompt \"For text: '{text}', the attitude between '{s_ind}','{t_ind}' is: '{label}'\" \\\n",
        "  --dest_lang en --docs_limit 1 --text_parser lm --output_dir 'out_rusentrel_prompt'"
      ],
      "metadata": {
        "id": "srhpk7TrIEbz",
        "outputId": "c79d77db-dcaa-4c42-bd6e-61f80e70d4b6",
        "colab": {
          "base_uri": "https://localhost:8080/"
        }
      },
      "execution_count": 30,
      "outputs": [
        {
          "output_type": "stream",
          "name": "stdout",
          "text": [
            "Loading RuSentRel Collection: 100%|████████████████████████████████████████████| 1253/1253 [00:01<00:00, 1105.86opins/s]\n",
            "sample [DataType.Train]: 680it [00:14, 46.74it/s, docs_seen=1, doc_now=1] \n"
          ]
        }
      ]
    },
    {
      "cell_type": "markdown",
      "source": [],
      "metadata": {
        "id": "CglgUCmsIAge"
      }
    },
    {
      "cell_type": "markdown",
      "source": [
        "Now we can take a look onto the results:"
      ],
      "metadata": {
        "id": "s7Yf2z-xmrp_"
      }
    },
    {
      "cell_type": "code",
      "source": [
        "from os.path import join\n",
        "from arekit.contrib.utils.data.readers.csv_pd import PandasCsvReader\n",
        "\n",
        "reader = PandasCsvReader()\n",
        "storage = reader.read(\"out_rusentrel_prompt/sample-train-0.csv\")\n",
        "storage._df.head()"
      ],
      "metadata": {
        "colab": {
          "base_uri": "https://localhost:8080/",
          "height": 296
        },
        "id": "WiPl5RgIlTfd",
        "outputId": "d7f46a48-bff1-4e4f-dcfc-76f57fc18098"
      },
      "execution_count": 31,
      "outputs": [
        {
          "output_type": "execute_result",
          "data": {
            "text/plain": [
              "       id  doc_id  label                                             text_a  \\\n",
              "0  o0_i0_       1      2  For text: 'According to statements from Pentag...   \n",
              "1  o1_i0_       1      2  For text: 'Why also in Moscow And Damascus who...   \n",
              "2  o2_i0_       1      2  For text: 'Why also in Moscow And Damascus who...   \n",
              "3  o3_i0_       1      2  For text: 'Anxiety USA obvious : the one who w...   \n",
              "4  o4_i0_       1      2  For text: 'As an example ali-khamenei cited th...   \n",
              "\n",
              "   s_ind  t_ind  \n",
              "0      7     15  \n",
              "1     30     11  \n",
              "2     13     30  \n",
              "3     25      1  \n",
              "4     22     30  "
            ],
            "text/html": [
              "\n",
              "\n",
              "  <div id=\"df-fabafc22-3302-442e-b1ff-c0b6740687c2\">\n",
              "    <div class=\"colab-df-container\">\n",
              "      <div>\n",
              "<style scoped>\n",
              "    .dataframe tbody tr th:only-of-type {\n",
              "        vertical-align: middle;\n",
              "    }\n",
              "\n",
              "    .dataframe tbody tr th {\n",
              "        vertical-align: top;\n",
              "    }\n",
              "\n",
              "    .dataframe thead th {\n",
              "        text-align: right;\n",
              "    }\n",
              "</style>\n",
              "<table border=\"1\" class=\"dataframe\">\n",
              "  <thead>\n",
              "    <tr style=\"text-align: right;\">\n",
              "      <th></th>\n",
              "      <th>id</th>\n",
              "      <th>doc_id</th>\n",
              "      <th>label</th>\n",
              "      <th>text_a</th>\n",
              "      <th>s_ind</th>\n",
              "      <th>t_ind</th>\n",
              "    </tr>\n",
              "  </thead>\n",
              "  <tbody>\n",
              "    <tr>\n",
              "      <th>0</th>\n",
              "      <td>o0_i0_</td>\n",
              "      <td>1</td>\n",
              "      <td>2</td>\n",
              "      <td>For text: 'According to statements from Pentag...</td>\n",
              "      <td>7</td>\n",
              "      <td>15</td>\n",
              "    </tr>\n",
              "    <tr>\n",
              "      <th>1</th>\n",
              "      <td>o1_i0_</td>\n",
              "      <td>1</td>\n",
              "      <td>2</td>\n",
              "      <td>For text: 'Why also in Moscow And Damascus who...</td>\n",
              "      <td>30</td>\n",
              "      <td>11</td>\n",
              "    </tr>\n",
              "    <tr>\n",
              "      <th>2</th>\n",
              "      <td>o2_i0_</td>\n",
              "      <td>1</td>\n",
              "      <td>2</td>\n",
              "      <td>For text: 'Why also in Moscow And Damascus who...</td>\n",
              "      <td>13</td>\n",
              "      <td>30</td>\n",
              "    </tr>\n",
              "    <tr>\n",
              "      <th>3</th>\n",
              "      <td>o3_i0_</td>\n",
              "      <td>1</td>\n",
              "      <td>2</td>\n",
              "      <td>For text: 'Anxiety USA obvious : the one who w...</td>\n",
              "      <td>25</td>\n",
              "      <td>1</td>\n",
              "    </tr>\n",
              "    <tr>\n",
              "      <th>4</th>\n",
              "      <td>o4_i0_</td>\n",
              "      <td>1</td>\n",
              "      <td>2</td>\n",
              "      <td>For text: 'As an example ali-khamenei cited th...</td>\n",
              "      <td>22</td>\n",
              "      <td>30</td>\n",
              "    </tr>\n",
              "  </tbody>\n",
              "</table>\n",
              "</div>\n",
              "      <button class=\"colab-df-convert\" onclick=\"convertToInteractive('df-fabafc22-3302-442e-b1ff-c0b6740687c2')\"\n",
              "              title=\"Convert this dataframe to an interactive table.\"\n",
              "              style=\"display:none;\">\n",
              "\n",
              "  <svg xmlns=\"http://www.w3.org/2000/svg\" height=\"24px\"viewBox=\"0 0 24 24\"\n",
              "       width=\"24px\">\n",
              "    <path d=\"M0 0h24v24H0V0z\" fill=\"none\"/>\n",
              "    <path d=\"M18.56 5.44l.94 2.06.94-2.06 2.06-.94-2.06-.94-.94-2.06-.94 2.06-2.06.94zm-11 1L8.5 8.5l.94-2.06 2.06-.94-2.06-.94L8.5 2.5l-.94 2.06-2.06.94zm10 10l.94 2.06.94-2.06 2.06-.94-2.06-.94-.94-2.06-.94 2.06-2.06.94z\"/><path d=\"M17.41 7.96l-1.37-1.37c-.4-.4-.92-.59-1.43-.59-.52 0-1.04.2-1.43.59L10.3 9.45l-7.72 7.72c-.78.78-.78 2.05 0 2.83L4 21.41c.39.39.9.59 1.41.59.51 0 1.02-.2 1.41-.59l7.78-7.78 2.81-2.81c.8-.78.8-2.07 0-2.86zM5.41 20L4 18.59l7.72-7.72 1.47 1.35L5.41 20z\"/>\n",
              "  </svg>\n",
              "      </button>\n",
              "\n",
              "\n",
              "\n",
              "    <div id=\"df-c502619f-28ee-46f4-8fd5-4dc0645aaa2c\">\n",
              "      <button class=\"colab-df-quickchart\" onclick=\"quickchart('df-c502619f-28ee-46f4-8fd5-4dc0645aaa2c')\"\n",
              "              title=\"Suggest charts.\"\n",
              "              style=\"display:none;\">\n",
              "\n",
              "<svg xmlns=\"http://www.w3.org/2000/svg\" height=\"24px\"viewBox=\"0 0 24 24\"\n",
              "     width=\"24px\">\n",
              "    <g>\n",
              "        <path d=\"M19 3H5c-1.1 0-2 .9-2 2v14c0 1.1.9 2 2 2h14c1.1 0 2-.9 2-2V5c0-1.1-.9-2-2-2zM9 17H7v-7h2v7zm4 0h-2V7h2v10zm4 0h-2v-4h2v4z\"/>\n",
              "    </g>\n",
              "</svg>\n",
              "      </button>\n",
              "    </div>\n",
              "\n",
              "<style>\n",
              "  .colab-df-quickchart {\n",
              "    background-color: #E8F0FE;\n",
              "    border: none;\n",
              "    border-radius: 50%;\n",
              "    cursor: pointer;\n",
              "    display: none;\n",
              "    fill: #1967D2;\n",
              "    height: 32px;\n",
              "    padding: 0 0 0 0;\n",
              "    width: 32px;\n",
              "  }\n",
              "\n",
              "  .colab-df-quickchart:hover {\n",
              "    background-color: #E2EBFA;\n",
              "    box-shadow: 0px 1px 2px rgba(60, 64, 67, 0.3), 0px 1px 3px 1px rgba(60, 64, 67, 0.15);\n",
              "    fill: #174EA6;\n",
              "  }\n",
              "\n",
              "  [theme=dark] .colab-df-quickchart {\n",
              "    background-color: #3B4455;\n",
              "    fill: #D2E3FC;\n",
              "  }\n",
              "\n",
              "  [theme=dark] .colab-df-quickchart:hover {\n",
              "    background-color: #434B5C;\n",
              "    box-shadow: 0px 1px 3px 1px rgba(0, 0, 0, 0.15);\n",
              "    filter: drop-shadow(0px 1px 2px rgba(0, 0, 0, 0.3));\n",
              "    fill: #FFFFFF;\n",
              "  }\n",
              "</style>\n",
              "\n",
              "    <script>\n",
              "      async function quickchart(key) {\n",
              "        const containerElement = document.querySelector('#' + key);\n",
              "        const charts = await google.colab.kernel.invokeFunction(\n",
              "            'suggestCharts', [key], {});\n",
              "      }\n",
              "    </script>\n",
              "\n",
              "      <script>\n",
              "\n",
              "function displayQuickchartButton(domScope) {\n",
              "  let quickchartButtonEl =\n",
              "    domScope.querySelector('#df-c502619f-28ee-46f4-8fd5-4dc0645aaa2c button.colab-df-quickchart');\n",
              "  quickchartButtonEl.style.display =\n",
              "    google.colab.kernel.accessAllowed ? 'block' : 'none';\n",
              "}\n",
              "\n",
              "        displayQuickchartButton(document);\n",
              "      </script>\n",
              "      <style>\n",
              "    .colab-df-container {\n",
              "      display:flex;\n",
              "      flex-wrap:wrap;\n",
              "      gap: 12px;\n",
              "    }\n",
              "\n",
              "    .colab-df-convert {\n",
              "      background-color: #E8F0FE;\n",
              "      border: none;\n",
              "      border-radius: 50%;\n",
              "      cursor: pointer;\n",
              "      display: none;\n",
              "      fill: #1967D2;\n",
              "      height: 32px;\n",
              "      padding: 0 0 0 0;\n",
              "      width: 32px;\n",
              "    }\n",
              "\n",
              "    .colab-df-convert:hover {\n",
              "      background-color: #E2EBFA;\n",
              "      box-shadow: 0px 1px 2px rgba(60, 64, 67, 0.3), 0px 1px 3px 1px rgba(60, 64, 67, 0.15);\n",
              "      fill: #174EA6;\n",
              "    }\n",
              "\n",
              "    [theme=dark] .colab-df-convert {\n",
              "      background-color: #3B4455;\n",
              "      fill: #D2E3FC;\n",
              "    }\n",
              "\n",
              "    [theme=dark] .colab-df-convert:hover {\n",
              "      background-color: #434B5C;\n",
              "      box-shadow: 0px 1px 3px 1px rgba(0, 0, 0, 0.15);\n",
              "      filter: drop-shadow(0px 1px 2px rgba(0, 0, 0, 0.3));\n",
              "      fill: #FFFFFF;\n",
              "    }\n",
              "  </style>\n",
              "\n",
              "      <script>\n",
              "        const buttonEl =\n",
              "          document.querySelector('#df-fabafc22-3302-442e-b1ff-c0b6740687c2 button.colab-df-convert');\n",
              "        buttonEl.style.display =\n",
              "          google.colab.kernel.accessAllowed ? 'block' : 'none';\n",
              "\n",
              "        async function convertToInteractive(key) {\n",
              "          const element = document.querySelector('#df-fabafc22-3302-442e-b1ff-c0b6740687c2');\n",
              "          const dataTable =\n",
              "            await google.colab.kernel.invokeFunction('convertToInteractive',\n",
              "                                                     [key], {});\n",
              "          if (!dataTable) return;\n",
              "\n",
              "          const docLinkHtml = 'Like what you see? Visit the ' +\n",
              "            '<a target=\"_blank\" href=https://colab.research.google.com/notebooks/data_table.ipynb>data table notebook</a>'\n",
              "            + ' to learn more about interactive tables.';\n",
              "          element.innerHTML = '';\n",
              "          dataTable['output_type'] = 'display_data';\n",
              "          await google.colab.output.renderOutput(dataTable, element);\n",
              "          const docLink = document.createElement('div');\n",
              "          docLink.innerHTML = docLinkHtml;\n",
              "          element.appendChild(docLink);\n",
              "        }\n",
              "      </script>\n",
              "    </div>\n",
              "  </div>\n"
            ]
          },
          "metadata": {},
          "execution_count": 31
        }
      ]
    }
  ]
}