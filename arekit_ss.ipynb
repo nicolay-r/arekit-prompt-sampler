{
  "nbformat": 4,
  "nbformat_minor": 0,
  "metadata": {
    "colab": {
      "provenance": [],
      "authorship_tag": "ABX9TyPgBhIBT04DKVd7QVFNTYvG",
      "include_colab_link": true
    },
    "kernelspec": {
      "name": "python3",
      "display_name": "Python 3"
    },
    "language_info": {
      "name": "python"
    }
  },
  "cells": [
    {
      "cell_type": "markdown",
      "metadata": {
        "id": "view-in-github",
        "colab_type": "text"
      },
      "source": [
        "<a href=\"https://colab.research.google.com/github/nicolay-r/arekit-ss/blob/master/arekit_ss.ipynb\" target=\"_parent\"><img src=\"https://colab.research.google.com/assets/colab-badge.svg\" alt=\"Open In Colab\"/></a>"
      ]
    },
    {
      "cell_type": "code",
      "source": [
        "# select python version\n",
        "!sudo update-alternatives --config python3\n",
        "# check python version\n",
        "!python --version\n",
        "# install pip for new python\n",
        "!sudo apt-get install python3.8-distutils\n",
        "!wget https://bootstrap.pypa.io/pip/get-pip.py\n",
        "!sudo python get-pip.py"
      ],
      "metadata": {
        "id": "SydQ625jFp90"
      },
      "execution_count": null,
      "outputs": []
    },
    {
      "cell_type": "code",
      "source": [
        "!pip install git+https://github.com/nicolay-r/arekit-ss.git@master"
      ],
      "metadata": {
        "id": "pDjk8iivQRgr"
      },
      "execution_count": null,
      "outputs": []
    },
    {
      "cell_type": "code",
      "source": [
        "!python -m arekit.download_data"
      ],
      "metadata": {
        "colab": {
          "base_uri": "https://localhost:8080/"
        },
        "id": "tXP4dLoxSwHi",
        "outputId": "4b73a339-e281-4419-9ffa-40b41174a58f"
      },
      "execution_count": 3,
      "outputs": [
        {
          "output_type": "stream",
          "name": "stdout",
          "text": [
            "Downloading from https://www.dropbox.com/s/bdsl3kney30y45z/rusentilex.zip?dl=1 to /root/.arekit/rusentilex.zip\n",
            "100% 53.5k/53.5k [00:00<00:00, 41.7MB/s]\n",
            "Downloading from https://www.dropbox.com/s/6aw5jv84jf5hrl2/rusentrel-v1_1.zip?dl=1 to /root/.arekit/rusentrel-v1_1.zip\n",
            "100% 705k/705k [00:00<00:00, 17.9MB/s]\n",
            "Downloading from https://www.dropbox.com/s/zvkis77li3f40bm/rusentiframes-v1_0.zip?dl=1 to /root/.arekit/rusentiframes-v1_0.zip\n",
            "100% 54.2k/54.2k [00:00<00:00, 5.06MB/s]\n",
            "Downloading from https://www.dropbox.com/s/slbyma7eudmmugp/rusentiframes-v2_0.zip?dl=1 to /root/.arekit/rusentiframes-v2_0.zip\n",
            "100% 57.4k/57.4k [00:00<00:00, 4.39MB/s]\n",
            "Downloading from https://www.dropbox.com/s/5lmqw9kyb4tfm94/ruattitudes-dbg.zip?dl=1 to /root/.arekit/ruattitudes-dbg.zip\n",
            "100% 737/737 [00:00<00:00, 631kB/s]\n",
            "Downloading from https://www.dropbox.com/s/wg6oa447msdytj3/ruattitudes-v1_0.zip?dl=1 to /root/.arekit/ruattitudes-v1_0.zip\n",
            "100% 3.40M/3.40M [00:00<00:00, 62.1MB/s]\n",
            "Downloading from https://www.dropbox.com/s/e3menx5iqyush19/ruattitudes-v1_1.zip?dl=1 to /root/.arekit/ruattitudes-v1_1.zip\n",
            "100% 3.46M/3.46M [00:00<00:00, 57.0MB/s]\n",
            "Downloading from https://www.dropbox.com/s/y39vqzzjumqhce1/ruattitudes_20_base.zip?dl=1 to /root/.arekit/ruattitudes-v2_0_base.zip\n",
            "100% 27.6M/27.6M [00:00<00:00, 159MB/s]\n",
            "Downloading from https://www.dropbox.com/s/3xh7gd004oyuwx5/ruattitudes_20_base_neut.zip?dl=1 to /root/.arekit/ruattitudes-v2_0_base_neut.zip\n",
            "100% 146M/146M [00:03<00:00, 39.7MB/s]\n",
            "Downloading from https://www.dropbox.com/s/43iqoxlyh38qk8u/ruattitudes_20_large.zip?dl=1 to /root/.arekit/ruattitudes-v2_0_large.zip\n",
            "100% 52.1M/52.1M [00:00<00:00, 218MB/s]\n",
            "Downloading from https://www.dropbox.com/s/6edqsxehtus4c61/ruattitudes_20_large_neut.zip?dl=1 to /root/.arekit/ruattitudes-v2_0_large_neut.zip\n",
            "100% 321M/321M [00:01<00:00, 179MB/s]\n",
            "Downloading from https://www.dropbox.com/s/<HIDDEN>/sentinerel-v1_0.zip?dl=1 to /root/.arekit/sentinerel-v1_0.zip\n",
            "63.1kB [00:00, 1.94MB/s]\n",
            "Downloading from https://www.dropbox.com/s/<HIDDEN>/sentinerel-v2_0.zip?dl=1 to /root/.arekit/sentinerel-v2_0.zip\n",
            "63.3kB [00:00, 1.17MB/s]\n",
            "Downloading from https://www.dropbox.com/s/<HIDDEN>/sentinerel-v2_1.zip?dl=1 to /root/.arekit/sentinerel-v2_1.zip\n",
            "63.3kB [00:00, 1.05MB/s]\n"
          ]
        }
      ]
    },
    {
      "cell_type": "markdown",
      "source": [
        "# Sentiment Analysis examples section\n",
        "\n",
        "1. Scenario with the bert-based formatter from `RuSentRel` collection with text translations into `en` language using Google Translate API."
      ],
      "metadata": {
        "id": "ebkYuqXIHtwk"
      }
    },
    {
      "cell_type": "code",
      "source": [
        "!python -m arekit_ss.sample --writer csv --source rusentrel --sampler nn \\\n",
        "  --dest_lang en --docs_limit 5 --text_parser lm --output_dir 'out_rusentrel_nn'"
      ],
      "metadata": {
        "id": "YfuraM8nLWXL",
        "outputId": "038d4084-e3d0-4085-dbc9-cca5a8b1823f",
        "colab": {
          "base_uri": "https://localhost:8080/"
        }
      },
      "execution_count": 4,
      "outputs": [
        {
          "output_type": "stream",
          "name": "stdout",
          "text": [
            "Installing mystem to /root/.local/bin/mystem from http://download.cdn.yandex.net/mystem/mystem-3.1-linux-64bit.tar.gz\n",
            "Loading RuSentRel Collection: 100%|████████████████████████████████████████████| 1253/1253 [00:00<00:00, 1941.61opins/s]\n",
            "Downloading from https://www.dropbox.com/s/0omnlgzgnjhxlmf/news_mystem_skipgram_1000_20_2015.tar.gz?dl=1 to /root/.arekit/news_mystem_skipgram_1000_20_2015.tar.gz\n",
            "100% 549M/549M [00:07<00:00, 73.1MB/s]\n",
            "INFO:arekit.contrib.utils.np_utils.embedding:Embedding read [size=(147358, 1000)]: /root/.arekit/news_mystem_skipgram_1000_20_2015/embedding.npz\n",
            "INFO:arekit.contrib.utils.np_utils.vocab:Loading vocabulary [size=147358]: /root/.arekit/news_mystem_skipgram_1000_20_2015/vocab.txt\n",
            "sample [DataType.Train]: 1412it [00:53, 26.34it/s, docs_seen=5, doc_now=13]\n",
            "INFO:arekit.contrib.utils.np_utils.embedding:Saving embedding [size=(1297, 1000)]: out_rusentrel_nn/term_embedding-0.npz\n",
            "INFO:arekit.contrib.utils.np_utils.vocab:Saving vocabulary [size=1297]: out_rusentrel_nn/vocab-0.txt\n"
          ]
        }
      ]
    },
    {
      "cell_type": "code",
      "source": [
        "!python -m arekit_ss.sample --writer csv --source rusentrel --sampler bert \\\n",
        "  --dest_lang en --docs_limit 5 --text_parser lm --output_dir 'out_rusentrel_bert'"
      ],
      "metadata": {
        "colab": {
          "base_uri": "https://localhost:8080/"
        },
        "id": "yYmPY419TKXL",
        "outputId": "c8fa0387-d60b-4b92-c6e6-7006845816b7"
      },
      "execution_count": null,
      "outputs": [
        {
          "output_type": "stream",
          "name": "stdout",
          "text": [
            "Loading RuSentRel Collection: 100%|█████████████████████████████████████████████| 1253/1253 [00:01<00:00, 834.92opins/s]\n",
            "sample [DataType.Train]: 1412it [00:48, 29.36it/s, docs_seen=5, doc_now=13]\n"
          ]
        }
      ]
    },
    {
      "cell_type": "markdown",
      "source": [
        "2. Prompting scenario for further application of the sampled data in LLM.\n",
        "You can compose your personal prompt:\n",
        "1. `text` -- original text of the sentence\n",
        "2. `s_ind`, `t_ind` -- word indices in the original text\n",
        "3. `label` -- sentiment label of the text."
      ],
      "metadata": {
        "id": "t_vMoU9mKhfb"
      }
    },
    {
      "cell_type": "code",
      "source": [
        "!python -m arekit_ss.sample --writer csv --source rusentrel --sampler prompt \\\n",
        "  --prompt \"For text: '{text}', the attitude between '{s_val}' and '{t_val}' is: '{label_val}'\" \\\n",
        "  --dest_lang en --docs_limit 1 --text_parser lm --output_dir 'out_rusentrel_prompt'"
      ],
      "metadata": {
        "id": "srhpk7TrIEbz",
        "outputId": "5a9f6a48-0a3d-49c2-a508-14340042046c",
        "colab": {
          "base_uri": "https://localhost:8080/"
        }
      },
      "execution_count": 19,
      "outputs": [
        {
          "output_type": "stream",
          "name": "stdout",
          "text": [
            "Loading RuSentRel Collection: 100%|████████████████████████████████████████████| 1253/1253 [00:00<00:00, 1746.92opins/s]\n",
            "sample [DataType.Train]: 680it [00:12, 52.55it/s, docs_seen=1, doc_now=1] \n"
          ]
        }
      ]
    },
    {
      "cell_type": "markdown",
      "source": [],
      "metadata": {
        "id": "CglgUCmsIAge"
      }
    },
    {
      "cell_type": "markdown",
      "source": [
        "Now we can take a look onto the results:"
      ],
      "metadata": {
        "id": "s7Yf2z-xmrp_"
      }
    },
    {
      "cell_type": "code",
      "source": [
        "!pip install pandas"
      ],
      "metadata": {
        "id": "I_fpFmYIrn9J"
      },
      "execution_count": null,
      "outputs": []
    },
    {
      "cell_type": "code",
      "source": [
        "import pandas as pd\n",
        "df = pd.read_csv(\"out_rusentrel_prompt/sample-train-0.csv\", sep='\\t')\n",
        "df.head()"
      ],
      "metadata": {
        "id": "WiPl5RgIlTfd",
        "outputId": "4d306ce3-894e-49d1-f3d2-443a475896e8",
        "colab": {
          "base_uri": "https://localhost:8080/",
          "height": 313
        }
      },
      "execution_count": 20,
      "outputs": [
        {
          "output_type": "execute_result",
          "data": {
            "text/plain": [
              "       id  doc_id  label                                             text_a  \\\n",
              "0  o0_i0_       1      2  For text: 'According to statements from Pentag...   \n",
              "1  o1_i0_       1      2  For text: 'Why also in Moscow And Damascus who...   \n",
              "2  o2_i0_       1      2  For text: 'Why also in Moscow And Damascus who...   \n",
              "3  o3_i0_       1      2  For text: 'Anxiety USA obvious : the one who w...   \n",
              "4  o4_i0_       1      2  For text: 'As an example ali-khamenei cited th...   \n",
              "\n",
              "   s_ind  t_ind  \n",
              "0      7     15  \n",
              "1     30     11  \n",
              "2     13     30  \n",
              "3     25      1  \n",
              "4     22     30  "
            ],
            "text/html": [
              "\n",
              "\n",
              "  <div id=\"df-458281aa-7b60-4b3e-aca7-8154ac699505\">\n",
              "    <div class=\"colab-df-container\">\n",
              "      <div>\n",
              "<style scoped>\n",
              "    .dataframe tbody tr th:only-of-type {\n",
              "        vertical-align: middle;\n",
              "    }\n",
              "\n",
              "    .dataframe tbody tr th {\n",
              "        vertical-align: top;\n",
              "    }\n",
              "\n",
              "    .dataframe thead th {\n",
              "        text-align: right;\n",
              "    }\n",
              "</style>\n",
              "<table border=\"1\" class=\"dataframe\">\n",
              "  <thead>\n",
              "    <tr style=\"text-align: right;\">\n",
              "      <th></th>\n",
              "      <th>id</th>\n",
              "      <th>doc_id</th>\n",
              "      <th>label</th>\n",
              "      <th>text_a</th>\n",
              "      <th>s_ind</th>\n",
              "      <th>t_ind</th>\n",
              "    </tr>\n",
              "  </thead>\n",
              "  <tbody>\n",
              "    <tr>\n",
              "      <th>0</th>\n",
              "      <td>o0_i0_</td>\n",
              "      <td>1</td>\n",
              "      <td>2</td>\n",
              "      <td>For text: 'According to statements from Pentag...</td>\n",
              "      <td>7</td>\n",
              "      <td>15</td>\n",
              "    </tr>\n",
              "    <tr>\n",
              "      <th>1</th>\n",
              "      <td>o1_i0_</td>\n",
              "      <td>1</td>\n",
              "      <td>2</td>\n",
              "      <td>For text: 'Why also in Moscow And Damascus who...</td>\n",
              "      <td>30</td>\n",
              "      <td>11</td>\n",
              "    </tr>\n",
              "    <tr>\n",
              "      <th>2</th>\n",
              "      <td>o2_i0_</td>\n",
              "      <td>1</td>\n",
              "      <td>2</td>\n",
              "      <td>For text: 'Why also in Moscow And Damascus who...</td>\n",
              "      <td>13</td>\n",
              "      <td>30</td>\n",
              "    </tr>\n",
              "    <tr>\n",
              "      <th>3</th>\n",
              "      <td>o3_i0_</td>\n",
              "      <td>1</td>\n",
              "      <td>2</td>\n",
              "      <td>For text: 'Anxiety USA obvious : the one who w...</td>\n",
              "      <td>25</td>\n",
              "      <td>1</td>\n",
              "    </tr>\n",
              "    <tr>\n",
              "      <th>4</th>\n",
              "      <td>o4_i0_</td>\n",
              "      <td>1</td>\n",
              "      <td>2</td>\n",
              "      <td>For text: 'As an example ali-khamenei cited th...</td>\n",
              "      <td>22</td>\n",
              "      <td>30</td>\n",
              "    </tr>\n",
              "  </tbody>\n",
              "</table>\n",
              "</div>\n",
              "      <button class=\"colab-df-convert\" onclick=\"convertToInteractive('df-458281aa-7b60-4b3e-aca7-8154ac699505')\"\n",
              "              title=\"Convert this dataframe to an interactive table.\"\n",
              "              style=\"display:none;\">\n",
              "\n",
              "  <svg xmlns=\"http://www.w3.org/2000/svg\" height=\"24px\"viewBox=\"0 0 24 24\"\n",
              "       width=\"24px\">\n",
              "    <path d=\"M0 0h24v24H0V0z\" fill=\"none\"/>\n",
              "    <path d=\"M18.56 5.44l.94 2.06.94-2.06 2.06-.94-2.06-.94-.94-2.06-.94 2.06-2.06.94zm-11 1L8.5 8.5l.94-2.06 2.06-.94-2.06-.94L8.5 2.5l-.94 2.06-2.06.94zm10 10l.94 2.06.94-2.06 2.06-.94-2.06-.94-.94-2.06-.94 2.06-2.06.94z\"/><path d=\"M17.41 7.96l-1.37-1.37c-.4-.4-.92-.59-1.43-.59-.52 0-1.04.2-1.43.59L10.3 9.45l-7.72 7.72c-.78.78-.78 2.05 0 2.83L4 21.41c.39.39.9.59 1.41.59.51 0 1.02-.2 1.41-.59l7.78-7.78 2.81-2.81c.8-.78.8-2.07 0-2.86zM5.41 20L4 18.59l7.72-7.72 1.47 1.35L5.41 20z\"/>\n",
              "  </svg>\n",
              "      </button>\n",
              "\n",
              "\n",
              "\n",
              "    <div id=\"df-b1c6ad4b-c5cf-432a-b7db-ca929d0f3a91\">\n",
              "      <button class=\"colab-df-quickchart\" onclick=\"quickchart('df-b1c6ad4b-c5cf-432a-b7db-ca929d0f3a91')\"\n",
              "              title=\"Suggest charts.\"\n",
              "              style=\"display:none;\">\n",
              "\n",
              "<svg xmlns=\"http://www.w3.org/2000/svg\" height=\"24px\"viewBox=\"0 0 24 24\"\n",
              "     width=\"24px\">\n",
              "    <g>\n",
              "        <path d=\"M19 3H5c-1.1 0-2 .9-2 2v14c0 1.1.9 2 2 2h14c1.1 0 2-.9 2-2V5c0-1.1-.9-2-2-2zM9 17H7v-7h2v7zm4 0h-2V7h2v10zm4 0h-2v-4h2v4z\"/>\n",
              "    </g>\n",
              "</svg>\n",
              "      </button>\n",
              "    </div>\n",
              "\n",
              "<style>\n",
              "  .colab-df-quickchart {\n",
              "    background-color: #E8F0FE;\n",
              "    border: none;\n",
              "    border-radius: 50%;\n",
              "    cursor: pointer;\n",
              "    display: none;\n",
              "    fill: #1967D2;\n",
              "    height: 32px;\n",
              "    padding: 0 0 0 0;\n",
              "    width: 32px;\n",
              "  }\n",
              "\n",
              "  .colab-df-quickchart:hover {\n",
              "    background-color: #E2EBFA;\n",
              "    box-shadow: 0px 1px 2px rgba(60, 64, 67, 0.3), 0px 1px 3px 1px rgba(60, 64, 67, 0.15);\n",
              "    fill: #174EA6;\n",
              "  }\n",
              "\n",
              "  [theme=dark] .colab-df-quickchart {\n",
              "    background-color: #3B4455;\n",
              "    fill: #D2E3FC;\n",
              "  }\n",
              "\n",
              "  [theme=dark] .colab-df-quickchart:hover {\n",
              "    background-color: #434B5C;\n",
              "    box-shadow: 0px 1px 3px 1px rgba(0, 0, 0, 0.15);\n",
              "    filter: drop-shadow(0px 1px 2px rgba(0, 0, 0, 0.3));\n",
              "    fill: #FFFFFF;\n",
              "  }\n",
              "</style>\n",
              "\n",
              "    <script>\n",
              "      async function quickchart(key) {\n",
              "        const containerElement = document.querySelector('#' + key);\n",
              "        const charts = await google.colab.kernel.invokeFunction(\n",
              "            'suggestCharts', [key], {});\n",
              "      }\n",
              "    </script>\n",
              "\n",
              "      <script>\n",
              "\n",
              "function displayQuickchartButton(domScope) {\n",
              "  let quickchartButtonEl =\n",
              "    domScope.querySelector('#df-b1c6ad4b-c5cf-432a-b7db-ca929d0f3a91 button.colab-df-quickchart');\n",
              "  quickchartButtonEl.style.display =\n",
              "    google.colab.kernel.accessAllowed ? 'block' : 'none';\n",
              "}\n",
              "\n",
              "        displayQuickchartButton(document);\n",
              "      </script>\n",
              "      <style>\n",
              "    .colab-df-container {\n",
              "      display:flex;\n",
              "      flex-wrap:wrap;\n",
              "      gap: 12px;\n",
              "    }\n",
              "\n",
              "    .colab-df-convert {\n",
              "      background-color: #E8F0FE;\n",
              "      border: none;\n",
              "      border-radius: 50%;\n",
              "      cursor: pointer;\n",
              "      display: none;\n",
              "      fill: #1967D2;\n",
              "      height: 32px;\n",
              "      padding: 0 0 0 0;\n",
              "      width: 32px;\n",
              "    }\n",
              "\n",
              "    .colab-df-convert:hover {\n",
              "      background-color: #E2EBFA;\n",
              "      box-shadow: 0px 1px 2px rgba(60, 64, 67, 0.3), 0px 1px 3px 1px rgba(60, 64, 67, 0.15);\n",
              "      fill: #174EA6;\n",
              "    }\n",
              "\n",
              "    [theme=dark] .colab-df-convert {\n",
              "      background-color: #3B4455;\n",
              "      fill: #D2E3FC;\n",
              "    }\n",
              "\n",
              "    [theme=dark] .colab-df-convert:hover {\n",
              "      background-color: #434B5C;\n",
              "      box-shadow: 0px 1px 3px 1px rgba(0, 0, 0, 0.15);\n",
              "      filter: drop-shadow(0px 1px 2px rgba(0, 0, 0, 0.3));\n",
              "      fill: #FFFFFF;\n",
              "    }\n",
              "  </style>\n",
              "\n",
              "      <script>\n",
              "        const buttonEl =\n",
              "          document.querySelector('#df-458281aa-7b60-4b3e-aca7-8154ac699505 button.colab-df-convert');\n",
              "        buttonEl.style.display =\n",
              "          google.colab.kernel.accessAllowed ? 'block' : 'none';\n",
              "\n",
              "        async function convertToInteractive(key) {\n",
              "          const element = document.querySelector('#df-458281aa-7b60-4b3e-aca7-8154ac699505');\n",
              "          const dataTable =\n",
              "            await google.colab.kernel.invokeFunction('convertToInteractive',\n",
              "                                                     [key], {});\n",
              "          if (!dataTable) return;\n",
              "\n",
              "          const docLinkHtml = 'Like what you see? Visit the ' +\n",
              "            '<a target=\"_blank\" href=https://colab.research.google.com/notebooks/data_table.ipynb>data table notebook</a>'\n",
              "            + ' to learn more about interactive tables.';\n",
              "          element.innerHTML = '';\n",
              "          dataTable['output_type'] = 'display_data';\n",
              "          await google.colab.output.renderOutput(dataTable, element);\n",
              "          const docLink = document.createElement('div');\n",
              "          docLink.innerHTML = docLinkHtml;\n",
              "          element.appendChild(docLink);\n",
              "        }\n",
              "      </script>\n",
              "    </div>\n",
              "  </div>\n"
            ]
          },
          "metadata": {},
          "execution_count": 20
        }
      ]
    }
  ]
}