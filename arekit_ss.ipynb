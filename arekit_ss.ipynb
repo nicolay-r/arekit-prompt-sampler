{
  "nbformat": 4,
  "nbformat_minor": 0,
  "metadata": {
    "colab": {
      "provenance": [],
      "authorship_tag": "ABX9TyOa9dt73yRj1v1wYHGHwW8O",
      "include_colab_link": true
    },
    "kernelspec": {
      "name": "python3",
      "display_name": "Python 3"
    },
    "language_info": {
      "name": "python"
    }
  },
  "cells": [
    {
      "cell_type": "markdown",
      "metadata": {
        "id": "view-in-github",
        "colab_type": "text"
      },
      "source": [
        "<a href=\"https://colab.research.google.com/github/nicolay-r/arekit-ss/blob/0.24.0/arekit_ss.ipynb\" target=\"_parent\"><img src=\"https://colab.research.google.com/assets/colab-badge.svg\" alt=\"Open In Colab\"/></a>"
      ]
    },
    {
      "cell_type": "code",
      "source": [
        "!pip install git+https://github.com/nicolay-r/arekit-ss.git@0.24.0"
      ],
      "metadata": {
        "id": "pDjk8iivQRgr"
      },
      "execution_count": null,
      "outputs": []
    },
    {
      "cell_type": "code",
      "source": [
        "!python -m arekit.download_data"
      ],
      "metadata": {
        "id": "tXP4dLoxSwHi"
      },
      "execution_count": null,
      "outputs": []
    },
    {
      "cell_type": "markdown",
      "source": [
        "# Sentiment Analysis examples section\n",
        "\n",
        "1. Scenario with the bert-based formatter from `RuSentRel` collection with text translations into `en` language using Google Translate API."
      ],
      "metadata": {
        "id": "ebkYuqXIHtwk"
      }
    },
    {
      "cell_type": "code",
      "source": [
        "!python -m arekit_ss.sample --writer csv --source rusentrel --sampler nn --dest_lang en --docs_limit 5"
      ],
      "metadata": {
        "id": "YfuraM8nLWXL",
        "outputId": "735d3999-d340-4f99-cec1-7c827865ae19",
        "colab": {
          "base_uri": "https://localhost:8080/"
        }
      },
      "execution_count": 3,
      "outputs": [
        {
          "output_type": "stream",
          "name": "stdout",
          "text": [
            "Installing mystem to /root/.local/bin/mystem from http://download.cdn.yandex.net/mystem/mystem-3.1-linux-64bit.tar.gz\n",
            "Loading RuSentRel Collection: 100%|████████████████████████████████████████████| 1253/1253 [00:01<00:00, 1110.35opins/s]\n",
            "Downloading from https://www.dropbox.com/s/0omnlgzgnjhxlmf/news_mystem_skipgram_1000_20_2015.tar.gz?dl=1 to /root/.arekit/news_mystem_skipgram_1000_20_2015.tar.gz\n",
            "100% 549M/549M [00:05<00:00, 94.8MB/s]\n",
            "INFO:arekit.contrib.utils.np_utils.embedding:Embedding read [size=(147358, 1000)]: /root/.arekit/news_mystem_skipgram_1000_20_2015/embedding.npz\n",
            "INFO:arekit.contrib.utils.np_utils.vocab:Loading vocabulary [size=147358]: /root/.arekit/news_mystem_skipgram_1000_20_2015/vocab.txt\n",
            "sample [DataType.Test]: 7392it [04:56, 24.95it/s, docs_seen=5, doc_now=50] \n",
            "sample [DataType.Train]: 4038it [02:17, 29.27it/s, docs_seen=5, doc_now=13] \n",
            "INFO:arekit_ss:Done: _out/rusentrel-nn-tpc50-en-l5 [csv]\n"
          ]
        }
      ]
    },
    {
      "cell_type": "code",
      "source": [
        "!python -m arekit_ss.sample --writer csv --source rusentrel --sampler bert --dest_lang en --docs_limit 5"
      ],
      "metadata": {
        "colab": {
          "base_uri": "https://localhost:8080/"
        },
        "id": "yYmPY419TKXL",
        "outputId": "c8fa0387-d60b-4b92-c6e6-7006845816b7"
      },
      "execution_count": null,
      "outputs": [
        {
          "output_type": "stream",
          "name": "stdout",
          "text": [
            "Loading RuSentRel Collection: 100%|█████████████████████████████████████████████| 1253/1253 [00:01<00:00, 834.92opins/s]\n",
            "sample [DataType.Train]: 1412it [00:48, 29.36it/s, docs_seen=5, doc_now=13]\n"
          ]
        }
      ]
    },
    {
      "cell_type": "markdown",
      "source": [
        "2. Prompting scenario for further application of the sampled data in LLM.\n",
        "You can compose your personal prompt:\n",
        "1. `text` -- original text of the sentence\n",
        "2. `s_ind`, `t_ind` -- word indices in the original text\n",
        "3. `label` -- sentiment label of the text."
      ],
      "metadata": {
        "id": "t_vMoU9mKhfb"
      }
    },
    {
      "cell_type": "code",
      "source": [
        "!python -m arekit_ss.sample --writer csv --source rusentrel --sampler prompt \\\n",
        "  --prompt \"For text: '{text}', the attitude between '{s_val}' and '{t_val}' is: '{label_val}'\" \\\n",
        "  --dest_lang en --docs_limit 1"
      ],
      "metadata": {
        "id": "srhpk7TrIEbz",
        "outputId": "7aa2d2c1-b9f6-4de6-af1c-fd358da8fb0a",
        "colab": {
          "base_uri": "https://localhost:8080/"
        }
      },
      "execution_count": 8,
      "outputs": [
        {
          "output_type": "stream",
          "name": "stdout",
          "text": [
            "Loading RuSentRel Collection: 100%|█████████████████████████████████████████████| 1253/1253 [00:01<00:00, 876.59opins/s]\n",
            "sample [DataType.Test]: 582it [00:13, 42.26it/s, docs_seen=1, doc_now=46] \n",
            "sample [DataType.Train]: 1550it [00:31, 49.60it/s, docs_seen=1, doc_now=1] \n",
            "INFO:arekit_ss:Done: _out/rusentrel-prompt-tpc50-en-l1 [csv]\n"
          ]
        }
      ]
    },
    {
      "cell_type": "markdown",
      "source": [],
      "metadata": {
        "id": "CglgUCmsIAge"
      }
    },
    {
      "cell_type": "markdown",
      "source": [
        "Now we can take a look onto the results:"
      ],
      "metadata": {
        "id": "s7Yf2z-xmrp_"
      }
    },
    {
      "cell_type": "code",
      "source": [
        "!pip install pandas"
      ],
      "metadata": {
        "id": "I_fpFmYIrn9J",
        "outputId": "7acbdeef-8bf9-4809-9fee-f5c6e1ae3fb1",
        "colab": {
          "base_uri": "https://localhost:8080/"
        }
      },
      "execution_count": 6,
      "outputs": [
        {
          "output_type": "stream",
          "name": "stdout",
          "text": [
            "Requirement already satisfied: pandas in /usr/local/lib/python3.10/dist-packages (1.5.3)\n",
            "Requirement already satisfied: python-dateutil>=2.8.1 in /usr/local/lib/python3.10/dist-packages (from pandas) (2.8.2)\n",
            "Requirement already satisfied: pytz>=2020.1 in /usr/local/lib/python3.10/dist-packages (from pandas) (2023.3.post1)\n",
            "Requirement already satisfied: numpy>=1.21.0 in /usr/local/lib/python3.10/dist-packages (from pandas) (1.23.5)\n",
            "Requirement already satisfied: six>=1.5 in /usr/local/lib/python3.10/dist-packages (from python-dateutil>=2.8.1->pandas) (1.16.0)\n"
          ]
        }
      ]
    },
    {
      "cell_type": "code",
      "source": [
        "import pandas as pd\n",
        "df = pd.read_csv(\"_out/rusentrel-prompt-tpc50-en-l1-train-0.csv\", sep='\\t')\n",
        "df.head()"
      ],
      "metadata": {
        "id": "WiPl5RgIlTfd",
        "outputId": "f003bc81-4f7f-40d7-f189-994629e71fe9",
        "colab": {
          "base_uri": "https://localhost:8080/",
          "height": 206
        }
      },
      "execution_count": 9,
      "outputs": [
        {
          "output_type": "execute_result",
          "data": {
            "text/plain": [
              "   id  doc_id  label_uint   label_str  \\\n",
              "0   0       1           2  NegativeTo   \n",
              "1   1       1           2  NegativeTo   \n",
              "2   2       1           2  NegativeTo   \n",
              "3   3       1           2  NegativeTo   \n",
              "4   4       1           2  NegativeTo   \n",
              "\n",
              "                                              text_a  s_ind  t_ind  \\\n",
              "0  For text: 'Author  Unknown According to statem...      7      9   \n",
              "1  For text: 'Author  Unknown Why is it that in M...     15      9   \n",
              "2  For text: 'Author  Unknown Why is it that in M...     11     15   \n",
              "3  For text: 'Author  Unknown The concern of USA ...      9      5   \n",
              "4  For text: 'Author Unknown As an example Ali-Kh...      5      9   \n",
              "\n",
              "   opinion_id  linkage_id               entities  \\\n",
              "0           0           0           1,3,5,7,9,11   \n",
              "1           1           0  1,3,5,7,9,11,13,15,17   \n",
              "2           2           0  1,3,5,7,9,11,13,15,17   \n",
              "3           3           0  1,3,5,7,9,11,13,15,17   \n",
              "4           4           0            0,1,3,5,7,9   \n",
              "\n",
              "                                    entity_types  \n",
              "0                        PER,PER,ORG,LOC,ORG,LOC  \n",
              "1       PER,PER,LOC,LOC,ORG,LOC,GEOPOLIT,LOC,PER  \n",
              "2       PER,PER,LOC,LOC,ORG,LOC,GEOPOLIT,LOC,PER  \n",
              "3  PER,PER,LOC,PER,LOC,ORG,GEOPOLIT,GEOPOLIT,LOC  \n",
              "4                   PER,PER,PER,LOC,LOC,GEOPOLIT  "
            ],
            "text/html": [
              "\n",
              "  <div id=\"df-76df1d64-ed0b-4cf9-9dc6-8c77d38ae3a1\" class=\"colab-df-container\">\n",
              "    <div>\n",
              "<style scoped>\n",
              "    .dataframe tbody tr th:only-of-type {\n",
              "        vertical-align: middle;\n",
              "    }\n",
              "\n",
              "    .dataframe tbody tr th {\n",
              "        vertical-align: top;\n",
              "    }\n",
              "\n",
              "    .dataframe thead th {\n",
              "        text-align: right;\n",
              "    }\n",
              "</style>\n",
              "<table border=\"1\" class=\"dataframe\">\n",
              "  <thead>\n",
              "    <tr style=\"text-align: right;\">\n",
              "      <th></th>\n",
              "      <th>id</th>\n",
              "      <th>doc_id</th>\n",
              "      <th>label_uint</th>\n",
              "      <th>label_str</th>\n",
              "      <th>text_a</th>\n",
              "      <th>s_ind</th>\n",
              "      <th>t_ind</th>\n",
              "      <th>opinion_id</th>\n",
              "      <th>linkage_id</th>\n",
              "      <th>entities</th>\n",
              "      <th>entity_types</th>\n",
              "    </tr>\n",
              "  </thead>\n",
              "  <tbody>\n",
              "    <tr>\n",
              "      <th>0</th>\n",
              "      <td>0</td>\n",
              "      <td>1</td>\n",
              "      <td>2</td>\n",
              "      <td>NegativeTo</td>\n",
              "      <td>For text: 'Author  Unknown According to statem...</td>\n",
              "      <td>7</td>\n",
              "      <td>9</td>\n",
              "      <td>0</td>\n",
              "      <td>0</td>\n",
              "      <td>1,3,5,7,9,11</td>\n",
              "      <td>PER,PER,ORG,LOC,ORG,LOC</td>\n",
              "    </tr>\n",
              "    <tr>\n",
              "      <th>1</th>\n",
              "      <td>1</td>\n",
              "      <td>1</td>\n",
              "      <td>2</td>\n",
              "      <td>NegativeTo</td>\n",
              "      <td>For text: 'Author  Unknown Why is it that in M...</td>\n",
              "      <td>15</td>\n",
              "      <td>9</td>\n",
              "      <td>1</td>\n",
              "      <td>0</td>\n",
              "      <td>1,3,5,7,9,11,13,15,17</td>\n",
              "      <td>PER,PER,LOC,LOC,ORG,LOC,GEOPOLIT,LOC,PER</td>\n",
              "    </tr>\n",
              "    <tr>\n",
              "      <th>2</th>\n",
              "      <td>2</td>\n",
              "      <td>1</td>\n",
              "      <td>2</td>\n",
              "      <td>NegativeTo</td>\n",
              "      <td>For text: 'Author  Unknown Why is it that in M...</td>\n",
              "      <td>11</td>\n",
              "      <td>15</td>\n",
              "      <td>2</td>\n",
              "      <td>0</td>\n",
              "      <td>1,3,5,7,9,11,13,15,17</td>\n",
              "      <td>PER,PER,LOC,LOC,ORG,LOC,GEOPOLIT,LOC,PER</td>\n",
              "    </tr>\n",
              "    <tr>\n",
              "      <th>3</th>\n",
              "      <td>3</td>\n",
              "      <td>1</td>\n",
              "      <td>2</td>\n",
              "      <td>NegativeTo</td>\n",
              "      <td>For text: 'Author  Unknown The concern of USA ...</td>\n",
              "      <td>9</td>\n",
              "      <td>5</td>\n",
              "      <td>3</td>\n",
              "      <td>0</td>\n",
              "      <td>1,3,5,7,9,11,13,15,17</td>\n",
              "      <td>PER,PER,LOC,PER,LOC,ORG,GEOPOLIT,GEOPOLIT,LOC</td>\n",
              "    </tr>\n",
              "    <tr>\n",
              "      <th>4</th>\n",
              "      <td>4</td>\n",
              "      <td>1</td>\n",
              "      <td>2</td>\n",
              "      <td>NegativeTo</td>\n",
              "      <td>For text: 'Author Unknown As an example Ali-Kh...</td>\n",
              "      <td>5</td>\n",
              "      <td>9</td>\n",
              "      <td>4</td>\n",
              "      <td>0</td>\n",
              "      <td>0,1,3,5,7,9</td>\n",
              "      <td>PER,PER,PER,LOC,LOC,GEOPOLIT</td>\n",
              "    </tr>\n",
              "  </tbody>\n",
              "</table>\n",
              "</div>\n",
              "    <div class=\"colab-df-buttons\">\n",
              "\n",
              "  <div class=\"colab-df-container\">\n",
              "    <button class=\"colab-df-convert\" onclick=\"convertToInteractive('df-76df1d64-ed0b-4cf9-9dc6-8c77d38ae3a1')\"\n",
              "            title=\"Convert this dataframe to an interactive table.\"\n",
              "            style=\"display:none;\">\n",
              "\n",
              "  <svg xmlns=\"http://www.w3.org/2000/svg\" height=\"24px\" viewBox=\"0 -960 960 960\">\n",
              "    <path d=\"M120-120v-720h720v720H120Zm60-500h600v-160H180v160Zm220 220h160v-160H400v160Zm0 220h160v-160H400v160ZM180-400h160v-160H180v160Zm440 0h160v-160H620v160ZM180-180h160v-160H180v160Zm440 0h160v-160H620v160Z\"/>\n",
              "  </svg>\n",
              "    </button>\n",
              "\n",
              "  <style>\n",
              "    .colab-df-container {\n",
              "      display:flex;\n",
              "      gap: 12px;\n",
              "    }\n",
              "\n",
              "    .colab-df-convert {\n",
              "      background-color: #E8F0FE;\n",
              "      border: none;\n",
              "      border-radius: 50%;\n",
              "      cursor: pointer;\n",
              "      display: none;\n",
              "      fill: #1967D2;\n",
              "      height: 32px;\n",
              "      padding: 0 0 0 0;\n",
              "      width: 32px;\n",
              "    }\n",
              "\n",
              "    .colab-df-convert:hover {\n",
              "      background-color: #E2EBFA;\n",
              "      box-shadow: 0px 1px 2px rgba(60, 64, 67, 0.3), 0px 1px 3px 1px rgba(60, 64, 67, 0.15);\n",
              "      fill: #174EA6;\n",
              "    }\n",
              "\n",
              "    .colab-df-buttons div {\n",
              "      margin-bottom: 4px;\n",
              "    }\n",
              "\n",
              "    [theme=dark] .colab-df-convert {\n",
              "      background-color: #3B4455;\n",
              "      fill: #D2E3FC;\n",
              "    }\n",
              "\n",
              "    [theme=dark] .colab-df-convert:hover {\n",
              "      background-color: #434B5C;\n",
              "      box-shadow: 0px 1px 3px 1px rgba(0, 0, 0, 0.15);\n",
              "      filter: drop-shadow(0px 1px 2px rgba(0, 0, 0, 0.3));\n",
              "      fill: #FFFFFF;\n",
              "    }\n",
              "  </style>\n",
              "\n",
              "    <script>\n",
              "      const buttonEl =\n",
              "        document.querySelector('#df-76df1d64-ed0b-4cf9-9dc6-8c77d38ae3a1 button.colab-df-convert');\n",
              "      buttonEl.style.display =\n",
              "        google.colab.kernel.accessAllowed ? 'block' : 'none';\n",
              "\n",
              "      async function convertToInteractive(key) {\n",
              "        const element = document.querySelector('#df-76df1d64-ed0b-4cf9-9dc6-8c77d38ae3a1');\n",
              "        const dataTable =\n",
              "          await google.colab.kernel.invokeFunction('convertToInteractive',\n",
              "                                                    [key], {});\n",
              "        if (!dataTable) return;\n",
              "\n",
              "        const docLinkHtml = 'Like what you see? Visit the ' +\n",
              "          '<a target=\"_blank\" href=https://colab.research.google.com/notebooks/data_table.ipynb>data table notebook</a>'\n",
              "          + ' to learn more about interactive tables.';\n",
              "        element.innerHTML = '';\n",
              "        dataTable['output_type'] = 'display_data';\n",
              "        await google.colab.output.renderOutput(dataTable, element);\n",
              "        const docLink = document.createElement('div');\n",
              "        docLink.innerHTML = docLinkHtml;\n",
              "        element.appendChild(docLink);\n",
              "      }\n",
              "    </script>\n",
              "  </div>\n",
              "\n",
              "\n",
              "<div id=\"df-8752029e-a9e8-4b48-9055-24f9dd9ab623\">\n",
              "  <button class=\"colab-df-quickchart\" onclick=\"quickchart('df-8752029e-a9e8-4b48-9055-24f9dd9ab623')\"\n",
              "            title=\"Suggest charts.\"\n",
              "            style=\"display:none;\">\n",
              "\n",
              "<svg xmlns=\"http://www.w3.org/2000/svg\" height=\"24px\"viewBox=\"0 0 24 24\"\n",
              "     width=\"24px\">\n",
              "    <g>\n",
              "        <path d=\"M19 3H5c-1.1 0-2 .9-2 2v14c0 1.1.9 2 2 2h14c1.1 0 2-.9 2-2V5c0-1.1-.9-2-2-2zM9 17H7v-7h2v7zm4 0h-2V7h2v10zm4 0h-2v-4h2v4z\"/>\n",
              "    </g>\n",
              "</svg>\n",
              "  </button>\n",
              "\n",
              "<style>\n",
              "  .colab-df-quickchart {\n",
              "      --bg-color: #E8F0FE;\n",
              "      --fill-color: #1967D2;\n",
              "      --hover-bg-color: #E2EBFA;\n",
              "      --hover-fill-color: #174EA6;\n",
              "      --disabled-fill-color: #AAA;\n",
              "      --disabled-bg-color: #DDD;\n",
              "  }\n",
              "\n",
              "  [theme=dark] .colab-df-quickchart {\n",
              "      --bg-color: #3B4455;\n",
              "      --fill-color: #D2E3FC;\n",
              "      --hover-bg-color: #434B5C;\n",
              "      --hover-fill-color: #FFFFFF;\n",
              "      --disabled-bg-color: #3B4455;\n",
              "      --disabled-fill-color: #666;\n",
              "  }\n",
              "\n",
              "  .colab-df-quickchart {\n",
              "    background-color: var(--bg-color);\n",
              "    border: none;\n",
              "    border-radius: 50%;\n",
              "    cursor: pointer;\n",
              "    display: none;\n",
              "    fill: var(--fill-color);\n",
              "    height: 32px;\n",
              "    padding: 0;\n",
              "    width: 32px;\n",
              "  }\n",
              "\n",
              "  .colab-df-quickchart:hover {\n",
              "    background-color: var(--hover-bg-color);\n",
              "    box-shadow: 0 1px 2px rgba(60, 64, 67, 0.3), 0 1px 3px 1px rgba(60, 64, 67, 0.15);\n",
              "    fill: var(--button-hover-fill-color);\n",
              "  }\n",
              "\n",
              "  .colab-df-quickchart-complete:disabled,\n",
              "  .colab-df-quickchart-complete:disabled:hover {\n",
              "    background-color: var(--disabled-bg-color);\n",
              "    fill: var(--disabled-fill-color);\n",
              "    box-shadow: none;\n",
              "  }\n",
              "\n",
              "  .colab-df-spinner {\n",
              "    border: 2px solid var(--fill-color);\n",
              "    border-color: transparent;\n",
              "    border-bottom-color: var(--fill-color);\n",
              "    animation:\n",
              "      spin 1s steps(1) infinite;\n",
              "  }\n",
              "\n",
              "  @keyframes spin {\n",
              "    0% {\n",
              "      border-color: transparent;\n",
              "      border-bottom-color: var(--fill-color);\n",
              "      border-left-color: var(--fill-color);\n",
              "    }\n",
              "    20% {\n",
              "      border-color: transparent;\n",
              "      border-left-color: var(--fill-color);\n",
              "      border-top-color: var(--fill-color);\n",
              "    }\n",
              "    30% {\n",
              "      border-color: transparent;\n",
              "      border-left-color: var(--fill-color);\n",
              "      border-top-color: var(--fill-color);\n",
              "      border-right-color: var(--fill-color);\n",
              "    }\n",
              "    40% {\n",
              "      border-color: transparent;\n",
              "      border-right-color: var(--fill-color);\n",
              "      border-top-color: var(--fill-color);\n",
              "    }\n",
              "    60% {\n",
              "      border-color: transparent;\n",
              "      border-right-color: var(--fill-color);\n",
              "    }\n",
              "    80% {\n",
              "      border-color: transparent;\n",
              "      border-right-color: var(--fill-color);\n",
              "      border-bottom-color: var(--fill-color);\n",
              "    }\n",
              "    90% {\n",
              "      border-color: transparent;\n",
              "      border-bottom-color: var(--fill-color);\n",
              "    }\n",
              "  }\n",
              "</style>\n",
              "\n",
              "  <script>\n",
              "    async function quickchart(key) {\n",
              "      const quickchartButtonEl =\n",
              "        document.querySelector('#' + key + ' button');\n",
              "      quickchartButtonEl.disabled = true;  // To prevent multiple clicks.\n",
              "      quickchartButtonEl.classList.add('colab-df-spinner');\n",
              "      try {\n",
              "        const charts = await google.colab.kernel.invokeFunction(\n",
              "            'suggestCharts', [key], {});\n",
              "      } catch (error) {\n",
              "        console.error('Error during call to suggestCharts:', error);\n",
              "      }\n",
              "      quickchartButtonEl.classList.remove('colab-df-spinner');\n",
              "      quickchartButtonEl.classList.add('colab-df-quickchart-complete');\n",
              "    }\n",
              "    (() => {\n",
              "      let quickchartButtonEl =\n",
              "        document.querySelector('#df-8752029e-a9e8-4b48-9055-24f9dd9ab623 button');\n",
              "      quickchartButtonEl.style.display =\n",
              "        google.colab.kernel.accessAllowed ? 'block' : 'none';\n",
              "    })();\n",
              "  </script>\n",
              "</div>\n",
              "    </div>\n",
              "  </div>\n"
            ]
          },
          "metadata": {},
          "execution_count": 9
        }
      ]
    }
  ]
}